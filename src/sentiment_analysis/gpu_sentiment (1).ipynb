{
  "nbformat": 4,
  "nbformat_minor": 0,
  "metadata": {
    "colab": {
      "name": "gpu_sentiment.ipynb",
      "provenance": []
    },
    "kernelspec": {
      "name": "python3",
      "display_name": "Python 3"
    },
    "language_info": {
      "name": "python"
    },
    "accelerator": "GPU"
  },
  "cells": [
    {
      "cell_type": "code",
      "source": [
        "bart_8_256_128 = {}\n",
        "bart_8_512_128 = {}\n",
        "pegasus_8_256_128 = {}\n",
        "t5_8_256_128 = {}\n",
        "t5_8_512_128 = {}"
      ],
      "metadata": {
        "id": "3_lMf5i2Wzog"
      },
      "execution_count": 70,
      "outputs": []
    },
    {
      "cell_type": "code",
      "source": [
        "bart_8_256_128['rougeL'] = 0.23999999999999996\n",
        "bart_8_512_128['rougeL'] = 0.16666666666666666\n",
        "pegasus_8_256_128['rougeL'] = 0.14814814814814817\n",
        "t5_8_256_128['rougeL'] = 0.22222222222222224\n",
        "t5_8_512_128['rougeL'] = 0.6428571428571429"
      ],
      "metadata": {
        "id": "Y-g7axtTVmjY"
      },
      "execution_count": 71,
      "outputs": []
    },
    {
      "cell_type": "code",
      "source": [
        "from textblob import TextBlob\n",
        "import time as time\n",
        "from vaderSentiment.vaderSentiment import SentimentIntensityAnalyzer\n",
        "import os\n",
        "import glob\n",
        "import plotly.express as px\n",
        "import seaborn as sns\n",
        "import numpy as np\n",
        "import matplotlib.pyplot as plt\n",
        "from plotly.graph_objs import *"
      ],
      "metadata": {
        "id": "qkzsMYfTXCY-"
      },
      "execution_count": 126,
      "outputs": []
    },
    {
      "cell_type": "code",
      "source": [
        ""
      ],
      "metadata": {
        "id": "jD-rpCDNXDsz"
      },
      "execution_count": 71,
      "outputs": []
    },
    {
      "cell_type": "code",
      "source": [
        "!pip install vaderSentiment"
      ],
      "metadata": {
        "colab": {
          "base_uri": "https://localhost:8080/"
        },
        "id": "cONkUabrmZ1g",
        "outputId": "19724ed8-6ed8-4249-c674-2e4529ff2a79"
      },
      "execution_count": 72,
      "outputs": [
        {
          "output_type": "stream",
          "name": "stdout",
          "text": [
            "Requirement already satisfied: vaderSentiment in /usr/local/lib/python3.7/dist-packages (3.3.2)\n",
            "Requirement already satisfied: requests in /usr/local/lib/python3.7/dist-packages (from vaderSentiment) (2.23.0)\n",
            "Requirement already satisfied: idna<3,>=2.5 in /usr/local/lib/python3.7/dist-packages (from requests->vaderSentiment) (2.10)\n",
            "Requirement already satisfied: chardet<4,>=3.0.2 in /usr/local/lib/python3.7/dist-packages (from requests->vaderSentiment) (3.0.4)\n",
            "Requirement already satisfied: certifi>=2017.4.17 in /usr/local/lib/python3.7/dist-packages (from requests->vaderSentiment) (2021.10.8)\n",
            "Requirement already satisfied: urllib3!=1.25.0,!=1.25.1,<1.26,>=1.21.1 in /usr/local/lib/python3.7/dist-packages (from requests->vaderSentiment) (1.24.3)\n"
          ]
        }
      ]
    },
    {
      "cell_type": "code",
      "source": [
        "from google.colab import drive\n",
        "drive.mount('/content/drive')"
      ],
      "metadata": {
        "colab": {
          "base_uri": "https://localhost:8080/"
        },
        "id": "Hk0R4nxMnh94",
        "outputId": "4402ac63-b39e-45d8-ca53-6086a94b75bb"
      },
      "execution_count": 73,
      "outputs": [
        {
          "output_type": "stream",
          "name": "stdout",
          "text": [
            "Drive already mounted at /content/drive; to attempt to forcibly remount, call drive.mount(\"/content/drive\", force_remount=True).\n"
          ]
        }
      ]
    },
    {
      "cell_type": "code",
      "source": [
        "#https://www.kaggle.com/code/hassanamin/unsupervised-sentiment-analysis-using-vader/notebook"
      ],
      "metadata": {
        "id": "zJ1A_6I9nAi-"
      },
      "execution_count": 74,
      "outputs": []
    },
    {
      "cell_type": "code",
      "execution_count": 75,
      "metadata": {
        "id": "dHEzSXSehSBC"
      },
      "outputs": [],
      "source": [
        "import pandas as pd\n",
        "\n",
        "from sklearn.model_selection import train_test_split\n",
        "\n",
        "import os\n",
        "\n",
        "def main():\n",
        "\tprint('Preprocessing Kaggle dataset...')\n",
        "\t# raw_files = [os.path.join(os.getcwd(), f'articles{i}.csv') for i in range(1, 4)]\n",
        "\traw_files = [os.path.join('/content/drive/MyDrive/SpecTopSci Project', f'articles{i}.csv') for i in range(1, 4)]\n",
        "\t\n",
        "\t# Check that Kaggle files are downloaded\n",
        "\tfor f in raw_files:\n",
        "\t\tif not os.path.isfile(f):\n",
        "\t\t\traise FileNotFoundError('Missing file or did not execute script in `src/data`.')\n",
        "\n",
        "\t# Drop empty title rows\n",
        "\tout_df = pd.concat(pd.read_csv(f) for f in raw_files)\n",
        "\tout_df.drop(['Unnamed: 0'], axis=1, inplace=True)\n",
        "\tnrows_before = out_df.shape[0]\n",
        "\tout_df.dropna(subset=['title'], inplace=True)\n",
        "\tnrows_after = out_df.shape[0]\n",
        "\tprint(f'Dropped {nrows_before - nrows_after} null rows.')\n",
        "\n",
        "\t# Create dataset splits 70:15:15\n",
        "\ttrain_df, val_test_df = train_test_split(out_df, test_size=0.3, random_state=0)\n",
        "\tval_df, test_df = train_test_split(val_test_df, test_size=0.5, random_state=0)\n",
        "\n",
        "\tprint(f'Train Data: {train_df.shape[0]} [{train_df.shape[0]/out_df.shape[0] * 100 :.2f}%]')\n",
        "\tprint(train_df.head())\n",
        "\tprint('-'*40)\n",
        "\tprint(f'Validation Data: {val_df.shape[0]} [{val_df.shape[0]/out_df.shape[0] * 100 :.2f}%]')\n",
        "\tprint(val_df.head())\n",
        "\tprint('-'*40)\n",
        "\tprint(f'Test Data: {test_df.shape[0]} [{test_df.shape[0]/out_df.shape[0] * 100 :.2f}%]')\t\n",
        "\tprint(test_df.head())\n",
        "\tprint('-'*40)\n",
        "\n",
        "\t# Write dataset split to csv files\n",
        "\ttrain_df.to_csv(os.path.join(os.getcwd(), 'train.csv'), index=False)\n",
        "\tval_df.to_csv(os.path.join(os.getcwd(), 'val.csv'), index=False)\n",
        "\ttest_df.to_csv(os.path.join(os.getcwd(), 'test.csv'), index=False)\n",
        "\tprint('Done.')\n",
        "\n"
      ]
    },
    {
      "cell_type": "code",
      "source": [
        "if __name__ == '__main__':\n",
        "\tmain()"
      ],
      "metadata": {
        "colab": {
          "base_uri": "https://localhost:8080/"
        },
        "id": "2brKQPSQhVCu",
        "outputId": "9fb081bc-3f13-4dea-97f1-8e1fd12b5377"
      },
      "execution_count": 76,
      "outputs": [
        {
          "output_type": "stream",
          "name": "stdout",
          "text": [
            "Preprocessing Kaggle dataset...\n",
            "Dropped 2 null rows.\n",
            "Train Data: 99797 [70.00%]\n",
            "           id                                              title  \\\n",
            "34577  131428  LaVar Ball’s ignorant nonsense hits disgusting...   \n",
            "18545  181167  Intelsat to extend debt exchange on OneWeb dea...   \n",
            "33659  130287  Frat bros no match for high school kids crashi...   \n",
            "9281    28017  Breitbart News Saturday: Fake News, Russian Ha...   \n",
            "7417    83063  Pro-choice group cries foul over Doritos comme...   \n",
            "\n",
            "         publication                               author        date    year  \\\n",
            "34577  New York Post                      Mark W. Sanchez  2017-05-20  2017.0   \n",
            "18545        Reuters  Liana B. Baker and Jessica DiNapoli  2017-04-20  2017.0   \n",
            "33659  New York Post                          Jackie Salo  2017-05-02  2017.0   \n",
            "9281       Breitbart                       Breitbart News  2017-03-17  2017.0   \n",
            "7417        Fox News                       Cody Derespina  2016-02-08  2016.0   \n",
            "\n",
            "       month                                                url  \\\n",
            "34577    5.0  https://web.archive.org/web/20170521020125/htt...   \n",
            "18545    4.0  http://www.reuters.com/article/us-intlsat-m-a-...   \n",
            "33659    5.0  https://web.archive.org/web/20170503041933/htt...   \n",
            "9281     3.0                                                NaN   \n",
            "7417     2.0  https://web.archive.org/web/20160209000041/htt...   \n",
            "\n",
            "                                                 content  \n",
            "34577  LaVar Ball’s defenders hail him as a visionary...  \n",
            "18545   Intelsat SA is planning to extend the deadlin...  \n",
            "33659  These frat bros were no match for a group of h...  \n",
            "9281   On Breitbart News Saturday, broadcast live on ...  \n",
            "7417       A   group kicked off a corn chip controver...  \n",
            "----------------------------------------\n",
            "Validation Data: 21385 [15.00%]\n",
            "           id                                              title  \\\n",
            "45217  145716  China hits back at Donald Trump’s ’champion of...   \n",
            "47960   70904  DOUBLE DIGITS: Hillary Clinton leads Donald Tr...   \n",
            "11457   30193  HuffPost Slams ‘Nervous’ Megyn for ‘Softball’ ...   \n",
            "7644   165510  Interracial Marriages Face Pushback 50 Years A...   \n",
            "35891  209592  The eternal weight-loss question: Exercise or ...   \n",
            "\n",
            "            publication         author        date    year  month  \\\n",
            "45217          Guardian   Tom Phillips  2017-02-24  2017.0    2.0   \n",
            "47960  Business Insider   Maxwell Tani  2016-08-04  2016.0    8.0   \n",
            "11457         Breitbart       Tony Lee  2017-06-18  2017.0    6.0   \n",
            "7644                NPR  Hansi Lo Wang  2017-06-12  2017.0    6.0   \n",
            "35891   Washington Post   Hope Warshaw  2016-01-25  2016.0    1.0   \n",
            "\n",
            "                                                     url  \\\n",
            "45217  https://www.theguardian.com/us-news/2017/feb/2...   \n",
            "47960                                                NaN   \n",
            "11457                                                NaN   \n",
            "7644   http://www.npr.org/2017/06/12/532061667/interr...   \n",
            "35891  https://web.archive.org/web/20160131021412/htt...   \n",
            "\n",
            "                                                 content  \n",
            "45217  Beijing has hit back at Donald Trump after the...  \n",
            "47960  ’  ’ ’   Hillary Clinton took a   lead over Do...  \n",
            "11457  NBC News’ Megyn Kelly can’t get any love.  On ...  \n",
            "7644   D. J. and Angela Ross were not supposed to end...  \n",
            "35891   Q: Which matters more when it comes to weight...  \n",
            "----------------------------------------\n",
            "Test Data: 21386 [15.00%]\n",
            "           id                                              title  \\\n",
            "22686  188494  Obama exhorts Britain to stay in EU, warns on ...   \n",
            "21296   40045  Wikileaks: Clinton Aide Asked for ’Hollywood F...   \n",
            "7153    25672  New Rules May Curb Classroom Cupcakes - The Ne...   \n",
            "34016  130728  Cops stop 8-year-old boy driving on lap of ‘dr...   \n",
            "3624    21309  Hillary Clinton Twists the Knife in Donald Tru...   \n",
            "\n",
            "          publication                               author        date  \\\n",
            "22686         Reuters  Roberta Rampton and Kylie MacLellan  2016-04-22   \n",
            "21296       Breitbart                              Ben Kew  2016-10-11   \n",
            "7153   New York Times                 Bettina Elias Siegel  2016-12-14   \n",
            "34016   New York Post                  Joshua Rhett Miller  2017-05-09   \n",
            "3624   New York Times                          Amy Chozick  2016-08-22   \n",
            "\n",
            "         year  month                                                url  \\\n",
            "22686  2016.0    4.0  http://www.reuters.com/article/us-britain-eu-o...   \n",
            "21296  2016.0   10.0                                                NaN   \n",
            "7153   2016.0   12.0                                                NaN   \n",
            "34016  2017.0    5.0  https://web.archive.org/web/20170510000425/htt...   \n",
            "3624   2016.0    8.0                                                NaN   \n",
            "\n",
            "                                                 content  \n",
            "22686   President Barack Obama made a bold interventi...  \n",
            "21296  In the latest Wikileaks release of 2, 050 priv...  \n",
            "7153   The season of    classroom holiday parties is ...  \n",
            "34016  A Wisconsin mother allegedly caught driving dr...  \n",
            "3624   Hillary Clinton leaned into her plans to raise...  \n",
            "----------------------------------------\n",
            "Done.\n"
          ]
        }
      ]
    },
    {
      "cell_type": "code",
      "source": [
        "news = pd.read_csv('/content/drive/MyDrive/SpecTopSci Project/T_t5_8_512_128.test')"
      ],
      "metadata": {
        "id": "SYKWb238oLXq"
      },
      "execution_count": 77,
      "outputs": []
    },
    {
      "cell_type": "code",
      "source": [
        ""
      ],
      "metadata": {
        "id": "8TR7lNnIos_A"
      },
      "execution_count": 77,
      "outputs": []
    },
    {
      "cell_type": "code",
      "source": [
        "news['generated_headline'] = news['generated_headline'].replace(u'\\xa0',u' ', regex=True)"
      ],
      "metadata": {
        "id": "chEUlr-zv0Dt"
      },
      "execution_count": 78,
      "outputs": []
    },
    {
      "cell_type": "code",
      "source": [
        ""
      ],
      "metadata": {
        "id": "bI2Sc-eavbCP"
      },
      "execution_count": 78,
      "outputs": []
    },
    {
      "cell_type": "code",
      "source": [
        "#news = pd.read_csv('test.csv')\n",
        "#news['title']"
      ],
      "metadata": {
        "id": "L5NO-4OMhW5r"
      },
      "execution_count": 79,
      "outputs": []
    },
    {
      "cell_type": "code",
      "source": [
        "analyser = SentimentIntensityAnalyzer()"
      ],
      "metadata": {
        "id": "H2X1CBLTkiYF"
      },
      "execution_count": 80,
      "outputs": []
    },
    {
      "cell_type": "code",
      "source": [
        "def sentiment_analyzer_scores(sentence):\n",
        "    score = analyser.polarity_scores(sentence)\n",
        "    print(\"{:-<40} {}\".format(sentence, str(score)))"
      ],
      "metadata": {
        "id": "ZHZffQrvmYWX"
      },
      "execution_count": 81,
      "outputs": []
    },
    {
      "cell_type": "code",
      "source": [
        "def column_analyzer_scores(dataframe_column):\n",
        "  start_time = time.time()  \n",
        "  polarity_com = []\n",
        "  polarity_pos = []\n",
        "  polarity_neg = []\n",
        "  for i in range(len(dataframe_column)):\n",
        "    score = analyser.polarity_scores(dataframe_column[i])\n",
        "    # print(\"{:-<40} {}\".format(sentence, str(score)))\n",
        "    polarity_com.append(score['compound'])\n",
        "    polarity_neg.append(score['neg'])\n",
        "    polarity_pos.append(score['pos'])\n",
        "\n",
        "  end_time = time.time()\n",
        "  runtime = end_time - start_time\n",
        "  return polarity_com, polarity_pos, polarity_neg, runtime"
      ],
      "metadata": {
        "id": "b9K8XLIVuTeD"
      },
      "execution_count": 83,
      "outputs": []
    },
    {
      "cell_type": "code",
      "source": [
        "polarity_com_og, polarity_pos_og, polarity_neg_og, runtime_og = column_analyzer_scores(news.headline)"
      ],
      "metadata": {
        "id": "92hyrVizmiSl"
      },
      "execution_count": 84,
      "outputs": []
    },
    {
      "cell_type": "code",
      "source": [
        "polarity_com_gen, polarity_pos_gen, polarity_neg_gen, runtime_gen = column_analyzer_scores(news['generated_headline'])"
      ],
      "metadata": {
        "id": "LAoTGmXKrolv"
      },
      "execution_count": 85,
      "outputs": []
    },
    {
      "cell_type": "code",
      "source": [
        "print(f'Original runtime: {runtime_og}')\n",
        "print(f'Generated runtime: {runtime_gen}')"
      ],
      "metadata": {
        "colab": {
          "base_uri": "https://localhost:8080/"
        },
        "id": "TKU_vfnUvW75",
        "outputId": "e547a57d-5a07-48d2-a55b-481727bd5d7e"
      },
      "execution_count": 86,
      "outputs": [
        {
          "output_type": "stream",
          "name": "stdout",
          "text": [
            "Original runtime: 1.8279814720153809\n",
            "Generated runtime: 2.6170835494995117\n"
          ]
        }
      ]
    },
    {
      "cell_type": "code",
      "source": [
        "data = [[runtime_og,runtime_gen]]\n",
        "runtimes = pd.DataFrame(data, columns = ['runtime_og', 'runtime_gen'])\n",
        "runtimes"
      ],
      "metadata": {
        "colab": {
          "base_uri": "https://localhost:8080/",
          "height": 81
        },
        "id": "cib3mPYls_70",
        "outputId": "d0bbcc6a-64ce-4980-df93-250c3d111e68"
      },
      "execution_count": 87,
      "outputs": [
        {
          "output_type": "execute_result",
          "data": {
            "text/plain": [
              "   runtime_og  runtime_gen\n",
              "0    1.827981     2.617084"
            ],
            "text/html": [
              "\n",
              "  <div id=\"df-d1a7bc73-915d-479d-9fa3-11b8cef4588c\">\n",
              "    <div class=\"colab-df-container\">\n",
              "      <div>\n",
              "<style scoped>\n",
              "    .dataframe tbody tr th:only-of-type {\n",
              "        vertical-align: middle;\n",
              "    }\n",
              "\n",
              "    .dataframe tbody tr th {\n",
              "        vertical-align: top;\n",
              "    }\n",
              "\n",
              "    .dataframe thead th {\n",
              "        text-align: right;\n",
              "    }\n",
              "</style>\n",
              "<table border=\"1\" class=\"dataframe\">\n",
              "  <thead>\n",
              "    <tr style=\"text-align: right;\">\n",
              "      <th></th>\n",
              "      <th>runtime_og</th>\n",
              "      <th>runtime_gen</th>\n",
              "    </tr>\n",
              "  </thead>\n",
              "  <tbody>\n",
              "    <tr>\n",
              "      <th>0</th>\n",
              "      <td>1.827981</td>\n",
              "      <td>2.617084</td>\n",
              "    </tr>\n",
              "  </tbody>\n",
              "</table>\n",
              "</div>\n",
              "      <button class=\"colab-df-convert\" onclick=\"convertToInteractive('df-d1a7bc73-915d-479d-9fa3-11b8cef4588c')\"\n",
              "              title=\"Convert this dataframe to an interactive table.\"\n",
              "              style=\"display:none;\">\n",
              "        \n",
              "  <svg xmlns=\"http://www.w3.org/2000/svg\" height=\"24px\"viewBox=\"0 0 24 24\"\n",
              "       width=\"24px\">\n",
              "    <path d=\"M0 0h24v24H0V0z\" fill=\"none\"/>\n",
              "    <path d=\"M18.56 5.44l.94 2.06.94-2.06 2.06-.94-2.06-.94-.94-2.06-.94 2.06-2.06.94zm-11 1L8.5 8.5l.94-2.06 2.06-.94-2.06-.94L8.5 2.5l-.94 2.06-2.06.94zm10 10l.94 2.06.94-2.06 2.06-.94-2.06-.94-.94-2.06-.94 2.06-2.06.94z\"/><path d=\"M17.41 7.96l-1.37-1.37c-.4-.4-.92-.59-1.43-.59-.52 0-1.04.2-1.43.59L10.3 9.45l-7.72 7.72c-.78.78-.78 2.05 0 2.83L4 21.41c.39.39.9.59 1.41.59.51 0 1.02-.2 1.41-.59l7.78-7.78 2.81-2.81c.8-.78.8-2.07 0-2.86zM5.41 20L4 18.59l7.72-7.72 1.47 1.35L5.41 20z\"/>\n",
              "  </svg>\n",
              "      </button>\n",
              "      \n",
              "  <style>\n",
              "    .colab-df-container {\n",
              "      display:flex;\n",
              "      flex-wrap:wrap;\n",
              "      gap: 12px;\n",
              "    }\n",
              "\n",
              "    .colab-df-convert {\n",
              "      background-color: #E8F0FE;\n",
              "      border: none;\n",
              "      border-radius: 50%;\n",
              "      cursor: pointer;\n",
              "      display: none;\n",
              "      fill: #1967D2;\n",
              "      height: 32px;\n",
              "      padding: 0 0 0 0;\n",
              "      width: 32px;\n",
              "    }\n",
              "\n",
              "    .colab-df-convert:hover {\n",
              "      background-color: #E2EBFA;\n",
              "      box-shadow: 0px 1px 2px rgba(60, 64, 67, 0.3), 0px 1px 3px 1px rgba(60, 64, 67, 0.15);\n",
              "      fill: #174EA6;\n",
              "    }\n",
              "\n",
              "    [theme=dark] .colab-df-convert {\n",
              "      background-color: #3B4455;\n",
              "      fill: #D2E3FC;\n",
              "    }\n",
              "\n",
              "    [theme=dark] .colab-df-convert:hover {\n",
              "      background-color: #434B5C;\n",
              "      box-shadow: 0px 1px 3px 1px rgba(0, 0, 0, 0.15);\n",
              "      filter: drop-shadow(0px 1px 2px rgba(0, 0, 0, 0.3));\n",
              "      fill: #FFFFFF;\n",
              "    }\n",
              "  </style>\n",
              "\n",
              "      <script>\n",
              "        const buttonEl =\n",
              "          document.querySelector('#df-d1a7bc73-915d-479d-9fa3-11b8cef4588c button.colab-df-convert');\n",
              "        buttonEl.style.display =\n",
              "          google.colab.kernel.accessAllowed ? 'block' : 'none';\n",
              "\n",
              "        async function convertToInteractive(key) {\n",
              "          const element = document.querySelector('#df-d1a7bc73-915d-479d-9fa3-11b8cef4588c');\n",
              "          const dataTable =\n",
              "            await google.colab.kernel.invokeFunction('convertToInteractive',\n",
              "                                                     [key], {});\n",
              "          if (!dataTable) return;\n",
              "\n",
              "          const docLinkHtml = 'Like what you see? Visit the ' +\n",
              "            '<a target=\"_blank\" href=https://colab.research.google.com/notebooks/data_table.ipynb>data table notebook</a>'\n",
              "            + ' to learn more about interactive tables.';\n",
              "          element.innerHTML = '';\n",
              "          dataTable['output_type'] = 'display_data';\n",
              "          await google.colab.output.renderOutput(dataTable, element);\n",
              "          const docLink = document.createElement('div');\n",
              "          docLink.innerHTML = docLinkHtml;\n",
              "          element.appendChild(docLink);\n",
              "        }\n",
              "      </script>\n",
              "    </div>\n",
              "  </div>\n",
              "  "
            ]
          },
          "metadata": {},
          "execution_count": 87
        }
      ]
    },
    {
      "cell_type": "code",
      "source": [
        "!nvidia-smi"
      ],
      "metadata": {
        "colab": {
          "base_uri": "https://localhost:8080/"
        },
        "id": "B-TDbQcyt6wh",
        "outputId": "8b80828a-2306-452f-9400-f7ba44ad850f"
      },
      "execution_count": 88,
      "outputs": [
        {
          "output_type": "stream",
          "name": "stdout",
          "text": [
            "Sun May 15 18:47:41 2022       \n",
            "+-----------------------------------------------------------------------------+\n",
            "| NVIDIA-SMI 460.32.03    Driver Version: 460.32.03    CUDA Version: 11.2     |\n",
            "|-------------------------------+----------------------+----------------------+\n",
            "| GPU  Name        Persistence-M| Bus-Id        Disp.A | Volatile Uncorr. ECC |\n",
            "| Fan  Temp  Perf  Pwr:Usage/Cap|         Memory-Usage | GPU-Util  Compute M. |\n",
            "|                               |                      |               MIG M. |\n",
            "|===============================+======================+======================|\n",
            "|   0  Tesla T4            Off  | 00000000:00:04.0 Off |                    0 |\n",
            "| N/A   35C    P8     9W /  70W |      0MiB / 15109MiB |      0%      Default |\n",
            "|                               |                      |                  N/A |\n",
            "+-------------------------------+----------------------+----------------------+\n",
            "                                                                               \n",
            "+-----------------------------------------------------------------------------+\n",
            "| Processes:                                                                  |\n",
            "|  GPU   GI   CI        PID   Type   Process name                  GPU Memory |\n",
            "|        ID   ID                                                   Usage      |\n",
            "|=============================================================================|\n",
            "|  No running processes found                                                 |\n",
            "+-----------------------------------------------------------------------------+\n"
          ]
        }
      ]
    },
    {
      "cell_type": "code",
      "source": [
        "runtimes.to_csv('runtimes_tesla_t4(T_t5_8_512_128).csv')"
      ],
      "metadata": {
        "id": "VvLFmCfTvrXx"
      },
      "execution_count": 89,
      "outputs": []
    },
    {
      "cell_type": "code",
      "source": [
        "news['polarity_com_og'] = polarity_com_og\n",
        "news['polarity_com_gen'] = polarity_com_gen"
      ],
      "metadata": {
        "id": "KfgXHkUtzb0Z"
      },
      "execution_count": 90,
      "outputs": []
    },
    {
      "cell_type": "code",
      "source": [
        "news['polarity_pos_og'] = polarity_pos_og\n",
        "news['polarity_pos_gen'] = polarity_pos_gen"
      ],
      "metadata": {
        "id": "Tcx44-jxzhEV"
      },
      "execution_count": 91,
      "outputs": []
    },
    {
      "cell_type": "code",
      "source": [
        "news['polarity_neg_og'] = polarity_neg_og\n",
        "news['polarity_neg_gen'] = polarity_neg_gen"
      ],
      "metadata": {
        "id": "cwhoTaMrzsRM"
      },
      "execution_count": 92,
      "outputs": []
    },
    {
      "cell_type": "code",
      "source": [
        "cd /content/drive/MyDrive/SpecTopSci Project/polarity_csv"
      ],
      "metadata": {
        "colab": {
          "base_uri": "https://localhost:8080/"
        },
        "id": "tp21yJnZG-nH",
        "outputId": "a6e9fafc-37df-449b-87d6-7200673531ee"
      },
      "execution_count": 93,
      "outputs": [
        {
          "output_type": "stream",
          "name": "stdout",
          "text": [
            "/content/drive/MyDrive/SpecTopSci Project/polarity_csv\n"
          ]
        }
      ]
    },
    {
      "cell_type": "code",
      "source": [
        "news.to_csv('polarity_tesla_t4(T_t5_8_512_128).csv')"
      ],
      "metadata": {
        "id": "UDprs0suz0QL"
      },
      "execution_count": 94,
      "outputs": []
    },
    {
      "cell_type": "code",
      "source": [
        "news.loc[2].generated_headline"
      ],
      "metadata": {
        "colab": {
          "base_uri": "https://localhost:8080/",
          "height": 36
        },
        "id": "HDKpODjUz1ld",
        "outputId": "68272773-72ca-4bb0-9c1c-aaef1c0ae68a"
      },
      "execution_count": 95,
      "outputs": [
        {
          "output_type": "execute_result",
          "data": {
            "text/plain": [
              "'Feds now require classroom food standards for holiday party snacks. Here’s what they’ll get you for your Christmas gift. (Sort of.'"
            ],
            "application/vnd.google.colaboratory.intrinsic+json": {
              "type": "string"
            }
          },
          "metadata": {},
          "execution_count": 95
        }
      ]
    },
    {
      "cell_type": "code",
      "source": [
        "news.loc[2].headline"
      ],
      "metadata": {
        "colab": {
          "base_uri": "https://localhost:8080/",
          "height": 36
        },
        "id": "Ny6ZxcNvyb9E",
        "outputId": "9d022ca5-6fe4-4474-9387-eed952f8cfe4"
      },
      "execution_count": 96,
      "outputs": [
        {
          "output_type": "execute_result",
          "data": {
            "text/plain": [
              "'New Rules May Curb Classroom Cupcakes - The New York Times'"
            ],
            "application/vnd.google.colaboratory.intrinsic+json": {
              "type": "string"
            }
          },
          "metadata": {},
          "execution_count": 96
        }
      ]
    },
    {
      "cell_type": "code",
      "source": [
        "analyser.polarity_scores(news.loc[2].generated_headline)"
      ],
      "metadata": {
        "id": "d2Agxy-X0GxB",
        "colab": {
          "base_uri": "https://localhost:8080/"
        },
        "outputId": "dc6ef162-26de-4fef-bf33-c4b822bd5009"
      },
      "execution_count": 97,
      "outputs": [
        {
          "output_type": "execute_result",
          "data": {
            "text/plain": [
              "{'compound': 0.8074, 'neg': 0.0, 'neu': 0.684, 'pos': 0.316}"
            ]
          },
          "metadata": {},
          "execution_count": 97
        }
      ]
    },
    {
      "cell_type": "code",
      "source": [
        "analyser.polarity_scores(news.loc[2].headline)"
      ],
      "metadata": {
        "colab": {
          "base_uri": "https://localhost:8080/"
        },
        "id": "ppbq_A8Gumzx",
        "outputId": "26fd4e46-fd47-40bd-de4a-96883ce06dfe"
      },
      "execution_count": 98,
      "outputs": [
        {
          "output_type": "execute_result",
          "data": {
            "text/plain": [
              "{'compound': 0.0, 'neg': 0.0, 'neu': 1.0, 'pos': 0.0}"
            ]
          },
          "metadata": {},
          "execution_count": 98
        }
      ]
    },
    {
      "cell_type": "code",
      "source": [
        "analyser.polarity_scores('Government shuts down US school holiday party crackdown')"
      ],
      "metadata": {
        "colab": {
          "base_uri": "https://localhost:8080/"
        },
        "id": "5uQZSQWpuvDj",
        "outputId": "1649fdca-5015-47a2-9531-0fd842fb69f0"
      },
      "execution_count": 99,
      "outputs": [
        {
          "output_type": "execute_result",
          "data": {
            "text/plain": [
              "{'compound': 0.6597, 'neg': 0.0, 'neu': 0.526, 'pos': 0.474}"
            ]
          },
          "metadata": {},
          "execution_count": 99
        }
      ]
    },
    {
      "cell_type": "code",
      "source": [
        "!cat /proc/cpuinfo"
      ],
      "metadata": {
        "colab": {
          "base_uri": "https://localhost:8080/"
        },
        "id": "Zmfn2zbwuxbA",
        "outputId": "8f7bc968-eaee-48b5-9e5c-e6b551f2b5b1"
      },
      "execution_count": 100,
      "outputs": [
        {
          "output_type": "stream",
          "name": "stdout",
          "text": [
            "processor\t: 0\n",
            "vendor_id\t: GenuineIntel\n",
            "cpu family\t: 6\n",
            "model\t\t: 79\n",
            "model name\t: Intel(R) Xeon(R) CPU @ 2.20GHz\n",
            "stepping\t: 0\n",
            "microcode\t: 0x1\n",
            "cpu MHz\t\t: 2199.998\n",
            "cache size\t: 56320 KB\n",
            "physical id\t: 0\n",
            "siblings\t: 2\n",
            "core id\t\t: 0\n",
            "cpu cores\t: 1\n",
            "apicid\t\t: 0\n",
            "initial apicid\t: 0\n",
            "fpu\t\t: yes\n",
            "fpu_exception\t: yes\n",
            "cpuid level\t: 13\n",
            "wp\t\t: yes\n",
            "flags\t\t: fpu vme de pse tsc msr pae mce cx8 apic sep mtrr pge mca cmov pat pse36 clflush mmx fxsr sse sse2 ss ht syscall nx pdpe1gb rdtscp lm constant_tsc rep_good nopl xtopology nonstop_tsc cpuid tsc_known_freq pni pclmulqdq ssse3 fma cx16 pcid sse4_1 sse4_2 x2apic movbe popcnt aes xsave avx f16c rdrand hypervisor lahf_lm abm 3dnowprefetch invpcid_single ssbd ibrs ibpb stibp fsgsbase tsc_adjust bmi1 hle avx2 smep bmi2 erms invpcid rtm rdseed adx smap xsaveopt arat md_clear arch_capabilities\n",
            "bugs\t\t: cpu_meltdown spectre_v1 spectre_v2 spec_store_bypass l1tf mds swapgs taa\n",
            "bogomips\t: 4399.99\n",
            "clflush size\t: 64\n",
            "cache_alignment\t: 64\n",
            "address sizes\t: 46 bits physical, 48 bits virtual\n",
            "power management:\n",
            "\n",
            "processor\t: 1\n",
            "vendor_id\t: GenuineIntel\n",
            "cpu family\t: 6\n",
            "model\t\t: 79\n",
            "model name\t: Intel(R) Xeon(R) CPU @ 2.20GHz\n",
            "stepping\t: 0\n",
            "microcode\t: 0x1\n",
            "cpu MHz\t\t: 2199.998\n",
            "cache size\t: 56320 KB\n",
            "physical id\t: 0\n",
            "siblings\t: 2\n",
            "core id\t\t: 0\n",
            "cpu cores\t: 1\n",
            "apicid\t\t: 1\n",
            "initial apicid\t: 1\n",
            "fpu\t\t: yes\n",
            "fpu_exception\t: yes\n",
            "cpuid level\t: 13\n",
            "wp\t\t: yes\n",
            "flags\t\t: fpu vme de pse tsc msr pae mce cx8 apic sep mtrr pge mca cmov pat pse36 clflush mmx fxsr sse sse2 ss ht syscall nx pdpe1gb rdtscp lm constant_tsc rep_good nopl xtopology nonstop_tsc cpuid tsc_known_freq pni pclmulqdq ssse3 fma cx16 pcid sse4_1 sse4_2 x2apic movbe popcnt aes xsave avx f16c rdrand hypervisor lahf_lm abm 3dnowprefetch invpcid_single ssbd ibrs ibpb stibp fsgsbase tsc_adjust bmi1 hle avx2 smep bmi2 erms invpcid rtm rdseed adx smap xsaveopt arat md_clear arch_capabilities\n",
            "bugs\t\t: cpu_meltdown spectre_v1 spectre_v2 spec_store_bypass l1tf mds swapgs taa\n",
            "bogomips\t: 4399.99\n",
            "clflush size\t: 64\n",
            "cache_alignment\t: 64\n",
            "address sizes\t: 46 bits physical, 48 bits virtual\n",
            "power management:\n",
            "\n"
          ]
        }
      ]
    },
    {
      "cell_type": "code",
      "source": [
        "news.polarity_com_og"
      ],
      "metadata": {
        "id": "Ayw7xhBR077t",
        "colab": {
          "base_uri": "https://localhost:8080/"
        },
        "outputId": "4034eb2e-7980-417a-e4fd-7a8d4a7a7366"
      },
      "execution_count": 101,
      "outputs": [
        {
          "output_type": "execute_result",
          "data": {
            "text/plain": [
              "0       -0.1027\n",
              "1        0.0000\n",
              "2        0.0000\n",
              "3       -0.2960\n",
              "4        0.0000\n",
              "          ...  \n",
              "21381    0.0000\n",
              "21382    0.0000\n",
              "21383    0.0000\n",
              "21384    0.0000\n",
              "21385   -0.1280\n",
              "Name: polarity_com_og, Length: 21386, dtype: float64"
            ]
          },
          "metadata": {},
          "execution_count": 101
        }
      ]
    },
    {
      "cell_type": "code",
      "source": [
        "news.polarity_com_gen"
      ],
      "metadata": {
        "colab": {
          "base_uri": "https://localhost:8080/"
        },
        "id": "CUt4Bn5waCYT",
        "outputId": "e53fd053-cd62-4f40-e816-aac1fd6c8b97"
      },
      "execution_count": 102,
      "outputs": [
        {
          "output_type": "execute_result",
          "data": {
            "text/plain": [
              "0       -0.3612\n",
              "1        0.0000\n",
              "2        0.8074\n",
              "3       -0.3400\n",
              "4        0.5994\n",
              "          ...  \n",
              "21381   -0.7184\n",
              "21382    0.6808\n",
              "21383   -0.4767\n",
              "21384    0.0000\n",
              "21385   -0.3182\n",
              "Name: polarity_com_gen, Length: 21386, dtype: float64"
            ]
          },
          "metadata": {},
          "execution_count": 102
        }
      ]
    },
    {
      "cell_type": "code",
      "source": [
        "news['diff'] = (news.polarity_com_gen - news.polarity_com_og).abs()\n",
        "news['sub'] = news.polarity_com_og - news.polarity_com_gen"
      ],
      "metadata": {
        "id": "kq8jpxHJaJfs"
      },
      "execution_count": 103,
      "outputs": []
    },
    {
      "cell_type": "code",
      "source": [
        "news"
      ],
      "metadata": {
        "colab": {
          "base_uri": "https://localhost:8080/",
          "height": 1000
        },
        "id": "5mscdtvPaead",
        "outputId": "ee22e6a6-abe6-40c6-86e3-6f634d73c2ea"
      },
      "execution_count": 104,
      "outputs": [
        {
          "output_type": "execute_result",
          "data": {
            "text/plain": [
              "           id                                           headline  \\\n",
              "0      188494  Obama exhorts Britain to stay in EU, warns on ...   \n",
              "1       40045  Wikileaks: Clinton Aide Asked for ’Hollywood F...   \n",
              "2       25672  New Rules May Curb Classroom Cupcakes - The Ne...   \n",
              "3      130728  Cops stop 8-year-old boy driving on lap of ‘dr...   \n",
              "4       21309  Hillary Clinton Twists the Knife in Donald Tru...   \n",
              "...       ...                                                ...   \n",
              "21381   83324  Unrest breaks out in Salt Lake City after poli...   \n",
              "21382  105502   Iran’s Moderates Appear To Have Expanded Cont...   \n",
              "21383  146817  It’s up to America now, says Julian Assange on...   \n",
              "21384   44901  Kellyanne Conway to CNN: Your Polls Were Off F...   \n",
              "21385  139000  Dying dad and sick son booted off plane to app...   \n",
              "\n",
              "          publication                               author        date  \\\n",
              "0             Reuters  Roberta Rampton and Kylie MacLellan  2016-04-22   \n",
              "1           Breitbart                              Ben Kew  2016-10-11   \n",
              "2      New York Times                 Bettina Elias Siegel  2016-12-14   \n",
              "3       New York Post                  Joshua Rhett Miller  2017-05-09   \n",
              "4      New York Times                          Amy Chozick  2016-08-22   \n",
              "...               ...                                  ...         ...   \n",
              "21381        Fox News                                  NaN  2016-02-28   \n",
              "21382   Buzzfeed News                      Borzou Daragahi  2016-02-29   \n",
              "21383        Guardian                                  NaN  2017-01-29   \n",
              "21384       Breitbart                         Breitbart TV  2016-02-17   \n",
              "21385   New York Post                              Reuters  2016-02-25   \n",
              "\n",
              "         year  month                                                url  \\\n",
              "0      2016.0    4.0  http://www.reuters.com/article/us-britain-eu-o...   \n",
              "1      2016.0   10.0                                                NaN   \n",
              "2      2016.0   12.0                                                NaN   \n",
              "3      2017.0    5.0  https://web.archive.org/web/20170510000425/htt...   \n",
              "4      2016.0    8.0                                                NaN   \n",
              "...       ...    ...                                                ...   \n",
              "21381  2016.0    2.0  https://web.archive.org/web/20160229061726/htt...   \n",
              "21382  2016.0    2.0  https://web.archive.org/web/20160229173941/htt...   \n",
              "21383  2017.0    1.0  https://www.theguardian.com/media/2017/jan/29/...   \n",
              "21384  2016.0    2.0                                                NaN   \n",
              "21385  2016.0    2.0  http://nypost.com/2016/02/25/dying-dad-and-sic...   \n",
              "\n",
              "                                                 article  \\\n",
              "0       President Barack Obama made a bold interventi...   \n",
              "1      In the latest Wikileaks release of 2, 050 priv...   \n",
              "2      The season of    classroom holiday parties is ...   \n",
              "3      A Wisconsin mother allegedly caught driving dr...   \n",
              "4      Hillary Clinton leaned into her plans to raise...   \n",
              "...                                                  ...   \n",
              "21381   A male who authorities say was wielding a bro...   \n",
              "21382   Results of Friday’s election for parliament a...   \n",
              "21383  Julian Assange has said the ball is in America...   \n",
              "21384  On Wednesday, Polling Company President and CE...   \n",
              "21385           SEATTLE  —   A boy on a vacation with...   \n",
              "\n",
              "                                      generated_headline  polarity_com_og  \\\n",
              "0      Obama to British: Stay in EU, you’ll get a bad...          -0.1027   \n",
              "1      Wikileaks: ’Hollywood Friends’ Could Ask MoveO...           0.0000   \n",
              "2      Feds now require classroom food standards for ...           0.0000   \n",
              "3      Mom caught again driving drunk with young son ...          -0.2960   \n",
              "4      Hillary Clinton: ‘We’re Going to Tax the Wealt...           0.0000   \n",
              "...                                                  ...              ...   \n",
              "21381  Salt Lake City Police Shot Man With Broomstick...           0.0000   \n",
              "21382  Report: Moderates Quadruple Share of 20 House ...           0.0000   \n",
              "21383  Julian Assange says offer to go to US after Ch...           0.0000   \n",
              "21384  Conway: Some Polls ‘Overestimate, Some Underes...           0.0000   \n",
              "21385  3-year-old boy returns home from dying father’...          -0.1280   \n",
              "\n",
              "       polarity_com_gen  polarity_pos_og  polarity_pos_gen  polarity_neg_og  \\\n",
              "0               -0.3612            0.000             0.103            0.104   \n",
              "1                0.0000            0.000             0.000            0.000   \n",
              "2                0.8074            0.000             0.316            0.000   \n",
              "3               -0.3400            0.000             0.000            0.196   \n",
              "4                0.5994            0.000             0.189            0.000   \n",
              "...                 ...              ...               ...              ...   \n",
              "21381           -0.7184            0.000             0.000            0.000   \n",
              "21382            0.6808            0.000             0.301            0.000   \n",
              "21383           -0.4767            0.000             0.000            0.000   \n",
              "21384            0.0000            0.000             0.000            0.000   \n",
              "21385           -0.3182            0.164             0.127            0.193   \n",
              "\n",
              "       polarity_neg_gen    diff     sub  \n",
              "0                 0.179  0.2585  0.2585  \n",
              "1                 0.000  0.0000  0.0000  \n",
              "2                 0.000  0.8074 -0.8074  \n",
              "3                 0.107  0.0440  0.0440  \n",
              "4                 0.000  0.5994 -0.5994  \n",
              "...                 ...     ...     ...  \n",
              "21381             0.250  0.7184  0.7184  \n",
              "21382             0.000  0.6808 -0.6808  \n",
              "21383             0.124  0.4767  0.4767  \n",
              "21384             0.000  0.0000  0.0000  \n",
              "21385             0.220  0.1902  0.1902  \n",
              "\n",
              "[21386 rows x 18 columns]"
            ],
            "text/html": [
              "\n",
              "  <div id=\"df-2480f9cc-8b6e-4733-aeae-0106c9d8ac72\">\n",
              "    <div class=\"colab-df-container\">\n",
              "      <div>\n",
              "<style scoped>\n",
              "    .dataframe tbody tr th:only-of-type {\n",
              "        vertical-align: middle;\n",
              "    }\n",
              "\n",
              "    .dataframe tbody tr th {\n",
              "        vertical-align: top;\n",
              "    }\n",
              "\n",
              "    .dataframe thead th {\n",
              "        text-align: right;\n",
              "    }\n",
              "</style>\n",
              "<table border=\"1\" class=\"dataframe\">\n",
              "  <thead>\n",
              "    <tr style=\"text-align: right;\">\n",
              "      <th></th>\n",
              "      <th>id</th>\n",
              "      <th>headline</th>\n",
              "      <th>publication</th>\n",
              "      <th>author</th>\n",
              "      <th>date</th>\n",
              "      <th>year</th>\n",
              "      <th>month</th>\n",
              "      <th>url</th>\n",
              "      <th>article</th>\n",
              "      <th>generated_headline</th>\n",
              "      <th>polarity_com_og</th>\n",
              "      <th>polarity_com_gen</th>\n",
              "      <th>polarity_pos_og</th>\n",
              "      <th>polarity_pos_gen</th>\n",
              "      <th>polarity_neg_og</th>\n",
              "      <th>polarity_neg_gen</th>\n",
              "      <th>diff</th>\n",
              "      <th>sub</th>\n",
              "    </tr>\n",
              "  </thead>\n",
              "  <tbody>\n",
              "    <tr>\n",
              "      <th>0</th>\n",
              "      <td>188494</td>\n",
              "      <td>Obama exhorts Britain to stay in EU, warns on ...</td>\n",
              "      <td>Reuters</td>\n",
              "      <td>Roberta Rampton and Kylie MacLellan</td>\n",
              "      <td>2016-04-22</td>\n",
              "      <td>2016.0</td>\n",
              "      <td>4.0</td>\n",
              "      <td>http://www.reuters.com/article/us-britain-eu-o...</td>\n",
              "      <td>President Barack Obama made a bold interventi...</td>\n",
              "      <td>Obama to British: Stay in EU, you’ll get a bad...</td>\n",
              "      <td>-0.1027</td>\n",
              "      <td>-0.3612</td>\n",
              "      <td>0.000</td>\n",
              "      <td>0.103</td>\n",
              "      <td>0.104</td>\n",
              "      <td>0.179</td>\n",
              "      <td>0.2585</td>\n",
              "      <td>0.2585</td>\n",
              "    </tr>\n",
              "    <tr>\n",
              "      <th>1</th>\n",
              "      <td>40045</td>\n",
              "      <td>Wikileaks: Clinton Aide Asked for ’Hollywood F...</td>\n",
              "      <td>Breitbart</td>\n",
              "      <td>Ben Kew</td>\n",
              "      <td>2016-10-11</td>\n",
              "      <td>2016.0</td>\n",
              "      <td>10.0</td>\n",
              "      <td>NaN</td>\n",
              "      <td>In the latest Wikileaks release of 2, 050 priv...</td>\n",
              "      <td>Wikileaks: ’Hollywood Friends’ Could Ask MoveO...</td>\n",
              "      <td>0.0000</td>\n",
              "      <td>0.0000</td>\n",
              "      <td>0.000</td>\n",
              "      <td>0.000</td>\n",
              "      <td>0.000</td>\n",
              "      <td>0.000</td>\n",
              "      <td>0.0000</td>\n",
              "      <td>0.0000</td>\n",
              "    </tr>\n",
              "    <tr>\n",
              "      <th>2</th>\n",
              "      <td>25672</td>\n",
              "      <td>New Rules May Curb Classroom Cupcakes - The Ne...</td>\n",
              "      <td>New York Times</td>\n",
              "      <td>Bettina Elias Siegel</td>\n",
              "      <td>2016-12-14</td>\n",
              "      <td>2016.0</td>\n",
              "      <td>12.0</td>\n",
              "      <td>NaN</td>\n",
              "      <td>The season of    classroom holiday parties is ...</td>\n",
              "      <td>Feds now require classroom food standards for ...</td>\n",
              "      <td>0.0000</td>\n",
              "      <td>0.8074</td>\n",
              "      <td>0.000</td>\n",
              "      <td>0.316</td>\n",
              "      <td>0.000</td>\n",
              "      <td>0.000</td>\n",
              "      <td>0.8074</td>\n",
              "      <td>-0.8074</td>\n",
              "    </tr>\n",
              "    <tr>\n",
              "      <th>3</th>\n",
              "      <td>130728</td>\n",
              "      <td>Cops stop 8-year-old boy driving on lap of ‘dr...</td>\n",
              "      <td>New York Post</td>\n",
              "      <td>Joshua Rhett Miller</td>\n",
              "      <td>2017-05-09</td>\n",
              "      <td>2017.0</td>\n",
              "      <td>5.0</td>\n",
              "      <td>https://web.archive.org/web/20170510000425/htt...</td>\n",
              "      <td>A Wisconsin mother allegedly caught driving dr...</td>\n",
              "      <td>Mom caught again driving drunk with young son ...</td>\n",
              "      <td>-0.2960</td>\n",
              "      <td>-0.3400</td>\n",
              "      <td>0.000</td>\n",
              "      <td>0.000</td>\n",
              "      <td>0.196</td>\n",
              "      <td>0.107</td>\n",
              "      <td>0.0440</td>\n",
              "      <td>0.0440</td>\n",
              "    </tr>\n",
              "    <tr>\n",
              "      <th>4</th>\n",
              "      <td>21309</td>\n",
              "      <td>Hillary Clinton Twists the Knife in Donald Tru...</td>\n",
              "      <td>New York Times</td>\n",
              "      <td>Amy Chozick</td>\n",
              "      <td>2016-08-22</td>\n",
              "      <td>2016.0</td>\n",
              "      <td>8.0</td>\n",
              "      <td>NaN</td>\n",
              "      <td>Hillary Clinton leaned into her plans to raise...</td>\n",
              "      <td>Hillary Clinton: ‘We’re Going to Tax the Wealt...</td>\n",
              "      <td>0.0000</td>\n",
              "      <td>0.5994</td>\n",
              "      <td>0.000</td>\n",
              "      <td>0.189</td>\n",
              "      <td>0.000</td>\n",
              "      <td>0.000</td>\n",
              "      <td>0.5994</td>\n",
              "      <td>-0.5994</td>\n",
              "    </tr>\n",
              "    <tr>\n",
              "      <th>...</th>\n",
              "      <td>...</td>\n",
              "      <td>...</td>\n",
              "      <td>...</td>\n",
              "      <td>...</td>\n",
              "      <td>...</td>\n",
              "      <td>...</td>\n",
              "      <td>...</td>\n",
              "      <td>...</td>\n",
              "      <td>...</td>\n",
              "      <td>...</td>\n",
              "      <td>...</td>\n",
              "      <td>...</td>\n",
              "      <td>...</td>\n",
              "      <td>...</td>\n",
              "      <td>...</td>\n",
              "      <td>...</td>\n",
              "      <td>...</td>\n",
              "      <td>...</td>\n",
              "    </tr>\n",
              "    <tr>\n",
              "      <th>21381</th>\n",
              "      <td>83324</td>\n",
              "      <td>Unrest breaks out in Salt Lake City after poli...</td>\n",
              "      <td>Fox News</td>\n",
              "      <td>NaN</td>\n",
              "      <td>2016-02-28</td>\n",
              "      <td>2016.0</td>\n",
              "      <td>2.0</td>\n",
              "      <td>https://web.archive.org/web/20160229061726/htt...</td>\n",
              "      <td>A male who authorities say was wielding a bro...</td>\n",
              "      <td>Salt Lake City Police Shot Man With Broomstick...</td>\n",
              "      <td>0.0000</td>\n",
              "      <td>-0.7184</td>\n",
              "      <td>0.000</td>\n",
              "      <td>0.000</td>\n",
              "      <td>0.000</td>\n",
              "      <td>0.250</td>\n",
              "      <td>0.7184</td>\n",
              "      <td>0.7184</td>\n",
              "    </tr>\n",
              "    <tr>\n",
              "      <th>21382</th>\n",
              "      <td>105502</td>\n",
              "      <td>Iran’s Moderates Appear To Have Expanded Cont...</td>\n",
              "      <td>Buzzfeed News</td>\n",
              "      <td>Borzou Daragahi</td>\n",
              "      <td>2016-02-29</td>\n",
              "      <td>2016.0</td>\n",
              "      <td>2.0</td>\n",
              "      <td>https://web.archive.org/web/20160229173941/htt...</td>\n",
              "      <td>Results of Friday’s election for parliament a...</td>\n",
              "      <td>Report: Moderates Quadruple Share of 20 House ...</td>\n",
              "      <td>0.0000</td>\n",
              "      <td>0.6808</td>\n",
              "      <td>0.000</td>\n",
              "      <td>0.301</td>\n",
              "      <td>0.000</td>\n",
              "      <td>0.000</td>\n",
              "      <td>0.6808</td>\n",
              "      <td>-0.6808</td>\n",
              "    </tr>\n",
              "    <tr>\n",
              "      <th>21383</th>\n",
              "      <td>146817</td>\n",
              "      <td>It’s up to America now, says Julian Assange on...</td>\n",
              "      <td>Guardian</td>\n",
              "      <td>NaN</td>\n",
              "      <td>2017-01-29</td>\n",
              "      <td>2017.0</td>\n",
              "      <td>1.0</td>\n",
              "      <td>https://www.theguardian.com/media/2017/jan/29/...</td>\n",
              "      <td>Julian Assange has said the ball is in America...</td>\n",
              "      <td>Julian Assange says offer to go to US after Ch...</td>\n",
              "      <td>0.0000</td>\n",
              "      <td>-0.4767</td>\n",
              "      <td>0.000</td>\n",
              "      <td>0.000</td>\n",
              "      <td>0.000</td>\n",
              "      <td>0.124</td>\n",
              "      <td>0.4767</td>\n",
              "      <td>0.4767</td>\n",
              "    </tr>\n",
              "    <tr>\n",
              "      <th>21384</th>\n",
              "      <td>44901</td>\n",
              "      <td>Kellyanne Conway to CNN: Your Polls Were Off F...</td>\n",
              "      <td>Breitbart</td>\n",
              "      <td>Breitbart TV</td>\n",
              "      <td>2016-02-17</td>\n",
              "      <td>2016.0</td>\n",
              "      <td>2.0</td>\n",
              "      <td>NaN</td>\n",
              "      <td>On Wednesday, Polling Company President and CE...</td>\n",
              "      <td>Conway: Some Polls ‘Overestimate, Some Underes...</td>\n",
              "      <td>0.0000</td>\n",
              "      <td>0.0000</td>\n",
              "      <td>0.000</td>\n",
              "      <td>0.000</td>\n",
              "      <td>0.000</td>\n",
              "      <td>0.000</td>\n",
              "      <td>0.0000</td>\n",
              "      <td>0.0000</td>\n",
              "    </tr>\n",
              "    <tr>\n",
              "      <th>21385</th>\n",
              "      <td>139000</td>\n",
              "      <td>Dying dad and sick son booted off plane to app...</td>\n",
              "      <td>New York Post</td>\n",
              "      <td>Reuters</td>\n",
              "      <td>2016-02-25</td>\n",
              "      <td>2016.0</td>\n",
              "      <td>2.0</td>\n",
              "      <td>http://nypost.com/2016/02/25/dying-dad-and-sic...</td>\n",
              "      <td>SEATTLE  —   A boy on a vacation with...</td>\n",
              "      <td>3-year-old boy returns home from dying father’...</td>\n",
              "      <td>-0.1280</td>\n",
              "      <td>-0.3182</td>\n",
              "      <td>0.164</td>\n",
              "      <td>0.127</td>\n",
              "      <td>0.193</td>\n",
              "      <td>0.220</td>\n",
              "      <td>0.1902</td>\n",
              "      <td>0.1902</td>\n",
              "    </tr>\n",
              "  </tbody>\n",
              "</table>\n",
              "<p>21386 rows × 18 columns</p>\n",
              "</div>\n",
              "      <button class=\"colab-df-convert\" onclick=\"convertToInteractive('df-2480f9cc-8b6e-4733-aeae-0106c9d8ac72')\"\n",
              "              title=\"Convert this dataframe to an interactive table.\"\n",
              "              style=\"display:none;\">\n",
              "        \n",
              "  <svg xmlns=\"http://www.w3.org/2000/svg\" height=\"24px\"viewBox=\"0 0 24 24\"\n",
              "       width=\"24px\">\n",
              "    <path d=\"M0 0h24v24H0V0z\" fill=\"none\"/>\n",
              "    <path d=\"M18.56 5.44l.94 2.06.94-2.06 2.06-.94-2.06-.94-.94-2.06-.94 2.06-2.06.94zm-11 1L8.5 8.5l.94-2.06 2.06-.94-2.06-.94L8.5 2.5l-.94 2.06-2.06.94zm10 10l.94 2.06.94-2.06 2.06-.94-2.06-.94-.94-2.06-.94 2.06-2.06.94z\"/><path d=\"M17.41 7.96l-1.37-1.37c-.4-.4-.92-.59-1.43-.59-.52 0-1.04.2-1.43.59L10.3 9.45l-7.72 7.72c-.78.78-.78 2.05 0 2.83L4 21.41c.39.39.9.59 1.41.59.51 0 1.02-.2 1.41-.59l7.78-7.78 2.81-2.81c.8-.78.8-2.07 0-2.86zM5.41 20L4 18.59l7.72-7.72 1.47 1.35L5.41 20z\"/>\n",
              "  </svg>\n",
              "      </button>\n",
              "      \n",
              "  <style>\n",
              "    .colab-df-container {\n",
              "      display:flex;\n",
              "      flex-wrap:wrap;\n",
              "      gap: 12px;\n",
              "    }\n",
              "\n",
              "    .colab-df-convert {\n",
              "      background-color: #E8F0FE;\n",
              "      border: none;\n",
              "      border-radius: 50%;\n",
              "      cursor: pointer;\n",
              "      display: none;\n",
              "      fill: #1967D2;\n",
              "      height: 32px;\n",
              "      padding: 0 0 0 0;\n",
              "      width: 32px;\n",
              "    }\n",
              "\n",
              "    .colab-df-convert:hover {\n",
              "      background-color: #E2EBFA;\n",
              "      box-shadow: 0px 1px 2px rgba(60, 64, 67, 0.3), 0px 1px 3px 1px rgba(60, 64, 67, 0.15);\n",
              "      fill: #174EA6;\n",
              "    }\n",
              "\n",
              "    [theme=dark] .colab-df-convert {\n",
              "      background-color: #3B4455;\n",
              "      fill: #D2E3FC;\n",
              "    }\n",
              "\n",
              "    [theme=dark] .colab-df-convert:hover {\n",
              "      background-color: #434B5C;\n",
              "      box-shadow: 0px 1px 3px 1px rgba(0, 0, 0, 0.15);\n",
              "      filter: drop-shadow(0px 1px 2px rgba(0, 0, 0, 0.3));\n",
              "      fill: #FFFFFF;\n",
              "    }\n",
              "  </style>\n",
              "\n",
              "      <script>\n",
              "        const buttonEl =\n",
              "          document.querySelector('#df-2480f9cc-8b6e-4733-aeae-0106c9d8ac72 button.colab-df-convert');\n",
              "        buttonEl.style.display =\n",
              "          google.colab.kernel.accessAllowed ? 'block' : 'none';\n",
              "\n",
              "        async function convertToInteractive(key) {\n",
              "          const element = document.querySelector('#df-2480f9cc-8b6e-4733-aeae-0106c9d8ac72');\n",
              "          const dataTable =\n",
              "            await google.colab.kernel.invokeFunction('convertToInteractive',\n",
              "                                                     [key], {});\n",
              "          if (!dataTable) return;\n",
              "\n",
              "          const docLinkHtml = 'Like what you see? Visit the ' +\n",
              "            '<a target=\"_blank\" href=https://colab.research.google.com/notebooks/data_table.ipynb>data table notebook</a>'\n",
              "            + ' to learn more about interactive tables.';\n",
              "          element.innerHTML = '';\n",
              "          dataTable['output_type'] = 'display_data';\n",
              "          await google.colab.output.renderOutput(dataTable, element);\n",
              "          const docLink = document.createElement('div');\n",
              "          docLink.innerHTML = docLinkHtml;\n",
              "          element.appendChild(docLink);\n",
              "        }\n",
              "      </script>\n",
              "    </div>\n",
              "  </div>\n",
              "  "
            ]
          },
          "metadata": {},
          "execution_count": 104
        }
      ]
    },
    {
      "cell_type": "code",
      "source": [
        "news.publication.unique()"
      ],
      "metadata": {
        "colab": {
          "base_uri": "https://localhost:8080/"
        },
        "id": "UEO5-YPzahi_",
        "outputId": "5e900a40-65b4-4160-881d-9e69ac80c9b9"
      },
      "execution_count": 105,
      "outputs": [
        {
          "output_type": "execute_result",
          "data": {
            "text/plain": [
              "array(['Reuters', 'Breitbart', 'New York Times', 'New York Post',\n",
              "       'Washington Post', 'National Review', 'Atlantic', 'Buzzfeed News',\n",
              "       'NPR', 'Vox', 'CNN', 'Talking Points Memo', 'Fox News', 'Guardian',\n",
              "       'Business Insider'], dtype=object)"
            ]
          },
          "metadata": {},
          "execution_count": 105
        }
      ]
    },
    {
      "cell_type": "code",
      "source": [
        "visdata = news[['publication','diff']].groupby(by='publication').sum()\n",
        "visdata['publication'] = visdata.index\n",
        "visdata = visdata.reset_index(drop=True)"
      ],
      "metadata": {
        "id": "PzqTf489ay5o"
      },
      "execution_count": 115,
      "outputs": []
    },
    {
      "cell_type": "code",
      "source": [
        "ax = sns.ax = sns.barplot(x=\"publication\", y=\"diff\", data=visdata)\n",
        "ax = ax.set_xticklabels(ax.get_xticklabels(),rotation = 75)"
      ],
      "metadata": {
        "colab": {
          "base_uri": "https://localhost:8080/",
          "height": 426
        },
        "id": "JWZw1tQ1cXo2",
        "outputId": "eca12a9a-804b-4036-9020-a76ec61c78d7"
      },
      "execution_count": 119,
      "outputs": [
        {
          "output_type": "display_data",
          "data": {
            "text/plain": [
              "<Figure size 720x360 with 1 Axes>"
            ],
            "image/png": "[encoded data removed]"
          },
          "metadata": {
            "needs_background": "light"
          }
        }
      ]
    },
    {
      "cell_type": "code",
      "source": [
        "visdata[\"radius\"] =round(np.square(visdata['diff'])/10000)\n",
        "visdata['x_axis'] = np.arange(0,45,3)\n",
        "visdata['ones'] = 1\n",
        "# np.sqrt("
      ],
      "metadata": {
        "id": "FIZ7cT3Ecr_B"
      },
      "execution_count": 122,
      "outputs": []
    },
    {
      "cell_type": "code",
      "source": [
        "plt.rcParams['figure.figsize'] = [10, 5]"
      ],
      "metadata": {
        "id": "07Q_3U4lgFUk"
      },
      "execution_count": 123,
      "outputs": []
    },
    {
      "cell_type": "code",
      "source": [
        "fig = px.scatter(visdata, x='x_axis', y='ones',\n",
        "             size='radius', \n",
        "             color='publication',\n",
        "             text='publication', size_max=60)\n",
        "\n",
        "fig.update_layout({\n",
        "'plot_bgcolor': 'rgba(0, 0, 0, 0)',\n",
        "'paper_bgcolor': 'rgba(0, 0, 0, 0)',\n",
        "})\n",
        "\n",
        "fig.show()"
      ],
      "metadata": {
        "colab": {
          "base_uri": "https://localhost:8080/",
          "height": 542
        },
        "id": "kw2vWBWbf7kb",
        "outputId": "544445a2-91e7-4551-d24e-ab5fb793a0f1"
      },
      "execution_count": 124,
      "outputs": [
        {
          "output_type": "display_data",
          "data": {
            "text/html": [
              "<html>\n",
              "<head><meta charset=\"utf-8\" /></head>\n",
              "<body>\n",
              "    <div>            <script src=\"https://cdnjs.cloudflare.com/ajax/libs/mathjax/2.7.5/MathJax.js?config=TeX-AMS-MML_SVG\"></script><script type=\"text/javascript\">if (window.MathJax) {MathJax.Hub.Config({SVG: {font: \"STIX-Web\"}});}</script>                <script type=\"text/javascript\">window.PlotlyConfig = {MathJaxConfig: 'local'};</script>\n",
              "        <script src=\"https://cdn.plot.ly/plotly-2.8.3.min.js\"></script>                <div id=\"35a3a7be-547c-4f02-a2a4-da55948efc18\" class=\"plotly-graph-div\" style=\"height:525px; width:100%;\"></div>            <script type=\"text/javascript\">                                    window.PLOTLYENV=window.PLOTLYENV || {};                                    if (document.getElementById(\"35a3a7be-547c-4f02-a2a4-da55948efc18\")) {                    Plotly.newPlot(                        \"35a3a7be-547c-4f02-a2a4-da55948efc18\",                        [{\"hovertemplate\":\"publication=%{text}<br>x_axis=%{x}<br>ones=%{y}<br>radius=%{marker.size}<extra></extra>\",\"legendgroup\":\"Atlantic\",\"marker\":{\"color\":\"#636efa\",\"size\":[12.0],\"sizemode\":\"area\",\"sizeref\":0.025833333333333333,\"symbol\":\"circle\"},\"mode\":\"markers+text\",\"name\":\"Atlantic\",\"orientation\":\"v\",\"showlegend\":true,\"text\":[\"Atlantic\"],\"x\":[0],\"xaxis\":\"x\",\"y\":[1],\"yaxis\":\"y\",\"type\":\"scatter\"},{\"hovertemplate\":\"publication=%{text}<br>x_axis=%{x}<br>ones=%{y}<br>radius=%{marker.size}<extra></extra>\",\"legendgroup\":\"Breitbart\",\"marker\":{\"color\":\"#EF553B\",\"size\":[93.0],\"sizemode\":\"area\",\"sizeref\":0.025833333333333333,\"symbol\":\"circle\"},\"mode\":\"markers+text\",\"name\":\"Breitbart\",\"orientation\":\"v\",\"showlegend\":true,\"text\":[\"Breitbart\"],\"x\":[3],\"xaxis\":\"x\",\"y\":[1],\"yaxis\":\"y\",\"type\":\"scatter\"},{\"hovertemplate\":\"publication=%{text}<br>x_axis=%{x}<br>ones=%{y}<br>radius=%{marker.size}<extra></extra>\",\"legendgroup\":\"Business Insider\",\"marker\":{\"color\":\"#00cc96\",\"size\":[12.0],\"sizemode\":\"area\",\"sizeref\":0.025833333333333333,\"symbol\":\"circle\"},\"mode\":\"markers+text\",\"name\":\"Business Insider\",\"orientation\":\"v\",\"showlegend\":true,\"text\":[\"Business Insider\"],\"x\":[6],\"xaxis\":\"x\",\"y\":[1],\"yaxis\":\"y\",\"type\":\"scatter\"},{\"hovertemplate\":\"publication=%{text}<br>x_axis=%{x}<br>ones=%{y}<br>radius=%{marker.size}<extra></extra>\",\"legendgroup\":\"Buzzfeed News\",\"marker\":{\"color\":\"#ab63fa\",\"size\":[5.0],\"sizemode\":\"area\",\"sizeref\":0.025833333333333333,\"symbol\":\"circle\"},\"mode\":\"markers+text\",\"name\":\"Buzzfeed News\",\"orientation\":\"v\",\"showlegend\":true,\"text\":[\"Buzzfeed News\"],\"x\":[9],\"xaxis\":\"x\",\"y\":[1],\"yaxis\":\"y\",\"type\":\"scatter\"},{\"hovertemplate\":\"publication=%{text}<br>x_axis=%{x}<br>ones=%{y}<br>radius=%{marker.size}<extra></extra>\",\"legendgroup\":\"CNN\",\"marker\":{\"color\":\"#FFA15A\",\"size\":[29.0],\"sizemode\":\"area\",\"sizeref\":0.025833333333333333,\"symbol\":\"circle\"},\"mode\":\"markers+text\",\"name\":\"CNN\",\"orientation\":\"v\",\"showlegend\":true,\"text\":[\"CNN\"],\"x\":[12],\"xaxis\":\"x\",\"y\":[1],\"yaxis\":\"y\",\"type\":\"scatter\"},{\"hovertemplate\":\"publication=%{text}<br>x_axis=%{x}<br>ones=%{y}<br>radius=%{marker.size}<extra></extra>\",\"legendgroup\":\"Fox News\",\"marker\":{\"color\":\"#19d3f3\",\"size\":[5.0],\"sizemode\":\"area\",\"sizeref\":0.025833333333333333,\"symbol\":\"circle\"},\"mode\":\"markers+text\",\"name\":\"Fox News\",\"orientation\":\"v\",\"showlegend\":true,\"text\":[\"Fox News\"],\"x\":[15],\"xaxis\":\"x\",\"y\":[1],\"yaxis\":\"y\",\"type\":\"scatter\"},{\"hovertemplate\":\"publication=%{text}<br>x_axis=%{x}<br>ones=%{y}<br>radius=%{marker.size}<extra></extra>\",\"legendgroup\":\"Guardian\",\"marker\":{\"color\":\"#FF6692\",\"size\":[22.0],\"sizemode\":\"area\",\"sizeref\":0.025833333333333333,\"symbol\":\"circle\"},\"mode\":\"markers+text\",\"name\":\"Guardian\",\"orientation\":\"v\",\"showlegend\":true,\"text\":[\"Guardian\"],\"x\":[18],\"xaxis\":\"x\",\"y\":[1],\"yaxis\":\"y\",\"type\":\"scatter\"},{\"hovertemplate\":\"publication=%{text}<br>x_axis=%{x}<br>ones=%{y}<br>radius=%{marker.size}<extra></extra>\",\"legendgroup\":\"NPR\",\"marker\":{\"color\":\"#B6E880\",\"size\":[37.0],\"sizemode\":\"area\",\"sizeref\":0.025833333333333333,\"symbol\":\"circle\"},\"mode\":\"markers+text\",\"name\":\"NPR\",\"orientation\":\"v\",\"showlegend\":true,\"text\":[\"NPR\"],\"x\":[21],\"xaxis\":\"x\",\"y\":[1],\"yaxis\":\"y\",\"type\":\"scatter\"},{\"hovertemplate\":\"publication=%{text}<br>x_axis=%{x}<br>ones=%{y}<br>radius=%{marker.size}<extra></extra>\",\"legendgroup\":\"National Review\",\"marker\":{\"color\":\"#FF97FF\",\"size\":[15.0],\"sizemode\":\"area\",\"sizeref\":0.025833333333333333,\"symbol\":\"circle\"},\"mode\":\"markers+text\",\"name\":\"National Review\",\"orientation\":\"v\",\"showlegend\":true,\"text\":[\"National Review\"],\"x\":[24],\"xaxis\":\"x\",\"y\":[1],\"yaxis\":\"y\",\"type\":\"scatter\"},{\"hovertemplate\":\"publication=%{text}<br>x_axis=%{x}<br>ones=%{y}<br>radius=%{marker.size}<extra></extra>\",\"legendgroup\":\"New York Post\",\"marker\":{\"color\":\"#FECB52\",\"size\":[79.0],\"sizemode\":\"area\",\"sizeref\":0.025833333333333333,\"symbol\":\"circle\"},\"mode\":\"markers+text\",\"name\":\"New York Post\",\"orientation\":\"v\",\"showlegend\":true,\"text\":[\"New York Post\"],\"x\":[27],\"xaxis\":\"x\",\"y\":[1],\"yaxis\":\"y\",\"type\":\"scatter\"},{\"hovertemplate\":\"publication=%{text}<br>x_axis=%{x}<br>ones=%{y}<br>radius=%{marker.size}<extra></extra>\",\"legendgroup\":\"New York Times\",\"marker\":{\"color\":\"#636efa\",\"size\":[16.0],\"sizemode\":\"area\",\"sizeref\":0.025833333333333333,\"symbol\":\"circle\"},\"mode\":\"markers+text\",\"name\":\"New York Times\",\"orientation\":\"v\",\"showlegend\":true,\"text\":[\"New York Times\"],\"x\":[30],\"xaxis\":\"x\",\"y\":[1],\"yaxis\":\"y\",\"type\":\"scatter\"},{\"hovertemplate\":\"publication=%{text}<br>x_axis=%{x}<br>ones=%{y}<br>radius=%{marker.size}<extra></extra>\",\"legendgroup\":\"Reuters\",\"marker\":{\"color\":\"#EF553B\",\"size\":[29.0],\"sizemode\":\"area\",\"sizeref\":0.025833333333333333,\"symbol\":\"circle\"},\"mode\":\"markers+text\",\"name\":\"Reuters\",\"orientation\":\"v\",\"showlegend\":true,\"text\":[\"Reuters\"],\"x\":[33],\"xaxis\":\"x\",\"y\":[1],\"yaxis\":\"y\",\"type\":\"scatter\"},{\"hovertemplate\":\"publication=%{text}<br>x_axis=%{x}<br>ones=%{y}<br>radius=%{marker.size}<extra></extra>\",\"legendgroup\":\"Talking Points Memo\",\"marker\":{\"color\":\"#00cc96\",\"size\":[6.0],\"sizemode\":\"area\",\"sizeref\":0.025833333333333333,\"symbol\":\"circle\"},\"mode\":\"markers+text\",\"name\":\"Talking Points Memo\",\"orientation\":\"v\",\"showlegend\":true,\"text\":[\"Talking Points Memo\"],\"x\":[36],\"xaxis\":\"x\",\"y\":[1],\"yaxis\":\"y\",\"type\":\"scatter\"},{\"hovertemplate\":\"publication=%{text}<br>x_axis=%{x}<br>ones=%{y}<br>radius=%{marker.size}<extra></extra>\",\"legendgroup\":\"Vox\",\"marker\":{\"color\":\"#ab63fa\",\"size\":[8.0],\"sizemode\":\"area\",\"sizeref\":0.025833333333333333,\"symbol\":\"circle\"},\"mode\":\"markers+text\",\"name\":\"Vox\",\"orientation\":\"v\",\"showlegend\":true,\"text\":[\"Vox\"],\"x\":[39],\"xaxis\":\"x\",\"y\":[1],\"yaxis\":\"y\",\"type\":\"scatter\"},{\"hovertemplate\":\"publication=%{text}<br>x_axis=%{x}<br>ones=%{y}<br>radius=%{marker.size}<extra></extra>\",\"legendgroup\":\"Washington Post\",\"marker\":{\"color\":\"#FFA15A\",\"size\":[41.0],\"sizemode\":\"area\",\"sizeref\":0.025833333333333333,\"symbol\":\"circle\"},\"mode\":\"markers+text\",\"name\":\"Washington Post\",\"orientation\":\"v\",\"showlegend\":true,\"text\":[\"Washington Post\"],\"x\":[42],\"xaxis\":\"x\",\"y\":[1],\"yaxis\":\"y\",\"type\":\"scatter\"}],                        {\"template\":{\"data\":{\"bar\":[{\"error_x\":{\"color\":\"#2a3f5f\"},\"error_y\":{\"color\":\"#2a3f5f\"},\"marker\":{\"line\":{\"color\":\"#E5ECF6\",\"width\":0.5},\"pattern\":{\"fillmode\":\"overlay\",\"size\":10,\"solidity\":0.2}},\"type\":\"bar\"}],\"barpolar\":[{\"marker\":{\"line\":{\"color\":\"#E5ECF6\",\"width\":0.5},\"pattern\":{\"fillmode\":\"overlay\",\"size\":10,\"solidity\":0.2}},\"type\":\"barpolar\"}],\"carpet\":[{\"aaxis\":{\"endlinecolor\":\"#2a3f5f\",\"gridcolor\":\"white\",\"linecolor\":\"white\",\"minorgridcolor\":\"white\",\"startlinecolor\":\"#2a3f5f\"},\"baxis\":{\"endlinecolor\":\"#2a3f5f\",\"gridcolor\":\"white\",\"linecolor\":\"white\",\"minorgridcolor\":\"white\",\"startlinecolor\":\"#2a3f5f\"},\"type\":\"carpet\"}],\"choropleth\":[{\"colorbar\":{\"outlinewidth\":0,\"ticks\":\"\"},\"type\":\"choropleth\"}],\"contour\":[{\"colorbar\":{\"outlinewidth\":0,\"ticks\":\"\"},\"colorscale\":[[0.0,\"#0d0887\"],[0.1111111111111111,\"#46039f\"],[0.2222222222222222,\"#7201a8\"],[0.3333333333333333,\"#9c179e\"],[0.4444444444444444,\"#bd3786\"],[0.5555555555555556,\"#d8576b\"],[0.6666666666666666,\"#ed7953\"],[0.7777777777777778,\"#fb9f3a\"],[0.8888888888888888,\"#fdca26\"],[1.0,\"#f0f921\"]],\"type\":\"contour\"}],\"contourcarpet\":[{\"colorbar\":{\"outlinewidth\":0,\"ticks\":\"\"},\"type\":\"contourcarpet\"}],\"heatmap\":[{\"colorbar\":{\"outlinewidth\":0,\"ticks\":\"\"},\"colorscale\":[[0.0,\"#0d0887\"],[0.1111111111111111,\"#46039f\"],[0.2222222222222222,\"#7201a8\"],[0.3333333333333333,\"#9c179e\"],[0.4444444444444444,\"#bd3786\"],[0.5555555555555556,\"#d8576b\"],[0.6666666666666666,\"#ed7953\"],[0.7777777777777778,\"#fb9f3a\"],[0.8888888888888888,\"#fdca26\"],[1.0,\"#f0f921\"]],\"type\":\"heatmap\"}],\"heatmapgl\":[{\"colorbar\":{\"outlinewidth\":0,\"ticks\":\"\"},\"colorscale\":[[0.0,\"#0d0887\"],[0.1111111111111111,\"#46039f\"],[0.2222222222222222,\"#7201a8\"],[0.3333333333333333,\"#9c179e\"],[0.4444444444444444,\"#bd3786\"],[0.5555555555555556,\"#d8576b\"],[0.6666666666666666,\"#ed7953\"],[0.7777777777777778,\"#fb9f3a\"],[0.8888888888888888,\"#fdca26\"],[1.0,\"#f0f921\"]],\"type\":\"heatmapgl\"}],\"histogram\":[{\"marker\":{\"pattern\":{\"fillmode\":\"overlay\",\"size\":10,\"solidity\":0.2}},\"type\":\"histogram\"}],\"histogram2d\":[{\"colorbar\":{\"outlinewidth\":0,\"ticks\":\"\"},\"colorscale\":[[0.0,\"#0d0887\"],[0.1111111111111111,\"#46039f\"],[0.2222222222222222,\"#7201a8\"],[0.3333333333333333,\"#9c179e\"],[0.4444444444444444,\"#bd3786\"],[0.5555555555555556,\"#d8576b\"],[0.6666666666666666,\"#ed7953\"],[0.7777777777777778,\"#fb9f3a\"],[0.8888888888888888,\"#fdca26\"],[1.0,\"#f0f921\"]],\"type\":\"histogram2d\"}],\"histogram2dcontour\":[{\"colorbar\":{\"outlinewidth\":0,\"ticks\":\"\"},\"colorscale\":[[0.0,\"#0d0887\"],[0.1111111111111111,\"#46039f\"],[0.2222222222222222,\"#7201a8\"],[0.3333333333333333,\"#9c179e\"],[0.4444444444444444,\"#bd3786\"],[0.5555555555555556,\"#d8576b\"],[0.6666666666666666,\"#ed7953\"],[0.7777777777777778,\"#fb9f3a\"],[0.8888888888888888,\"#fdca26\"],[1.0,\"#f0f921\"]],\"type\":\"histogram2dcontour\"}],\"mesh3d\":[{\"colorbar\":{\"outlinewidth\":0,\"ticks\":\"\"},\"type\":\"mesh3d\"}],\"parcoords\":[{\"line\":{\"colorbar\":{\"outlinewidth\":0,\"ticks\":\"\"}},\"type\":\"parcoords\"}],\"pie\":[{\"automargin\":true,\"type\":\"pie\"}],\"scatter\":[{\"marker\":{\"colorbar\":{\"outlinewidth\":0,\"ticks\":\"\"}},\"type\":\"scatter\"}],\"scatter3d\":[{\"line\":{\"colorbar\":{\"outlinewidth\":0,\"ticks\":\"\"}},\"marker\":{\"colorbar\":{\"outlinewidth\":0,\"ticks\":\"\"}},\"type\":\"scatter3d\"}],\"scattercarpet\":[{\"marker\":{\"colorbar\":{\"outlinewidth\":0,\"ticks\":\"\"}},\"type\":\"scattercarpet\"}],\"scattergeo\":[{\"marker\":{\"colorbar\":{\"outlinewidth\":0,\"ticks\":\"\"}},\"type\":\"scattergeo\"}],\"scattergl\":[{\"marker\":{\"colorbar\":{\"outlinewidth\":0,\"ticks\":\"\"}},\"type\":\"scattergl\"}],\"scattermapbox\":[{\"marker\":{\"colorbar\":{\"outlinewidth\":0,\"ticks\":\"\"}},\"type\":\"scattermapbox\"}],\"scatterpolar\":[{\"marker\":{\"colorbar\":{\"outlinewidth\":0,\"ticks\":\"\"}},\"type\":\"scatterpolar\"}],\"scatterpolargl\":[{\"marker\":{\"colorbar\":{\"outlinewidth\":0,\"ticks\":\"\"}},\"type\":\"scatterpolargl\"}],\"scatterternary\":[{\"marker\":{\"colorbar\":{\"outlinewidth\":0,\"ticks\":\"\"}},\"type\":\"scatterternary\"}],\"surface\":[{\"colorbar\":{\"outlinewidth\":0,\"ticks\":\"\"},\"colorscale\":[[0.0,\"#0d0887\"],[0.1111111111111111,\"#46039f\"],[0.2222222222222222,\"#7201a8\"],[0.3333333333333333,\"#9c179e\"],[0.4444444444444444,\"#bd3786\"],[0.5555555555555556,\"#d8576b\"],[0.6666666666666666,\"#ed7953\"],[0.7777777777777778,\"#fb9f3a\"],[0.8888888888888888,\"#fdca26\"],[1.0,\"#f0f921\"]],\"type\":\"surface\"}],\"table\":[{\"cells\":{\"fill\":{\"color\":\"#EBF0F8\"},\"line\":{\"color\":\"white\"}},\"header\":{\"fill\":{\"color\":\"#C8D4E3\"},\"line\":{\"color\":\"white\"}},\"type\":\"table\"}]},\"layout\":{\"annotationdefaults\":{\"arrowcolor\":\"#2a3f5f\",\"arrowhead\":0,\"arrowwidth\":1},\"autotypenumbers\":\"strict\",\"coloraxis\":{\"colorbar\":{\"outlinewidth\":0,\"ticks\":\"\"}},\"colorscale\":{\"diverging\":[[0,\"#8e0152\"],[0.1,\"#c51b7d\"],[0.2,\"#de77ae\"],[0.3,\"#f1b6da\"],[0.4,\"#fde0ef\"],[0.5,\"#f7f7f7\"],[0.6,\"#e6f5d0\"],[0.7,\"#b8e186\"],[0.8,\"#7fbc41\"],[0.9,\"#4d9221\"],[1,\"#276419\"]],\"sequential\":[[0.0,\"#0d0887\"],[0.1111111111111111,\"#46039f\"],[0.2222222222222222,\"#7201a8\"],[0.3333333333333333,\"#9c179e\"],[0.4444444444444444,\"#bd3786\"],[0.5555555555555556,\"#d8576b\"],[0.6666666666666666,\"#ed7953\"],[0.7777777777777778,\"#fb9f3a\"],[0.8888888888888888,\"#fdca26\"],[1.0,\"#f0f921\"]],\"sequentialminus\":[[0.0,\"#0d0887\"],[0.1111111111111111,\"#46039f\"],[0.2222222222222222,\"#7201a8\"],[0.3333333333333333,\"#9c179e\"],[0.4444444444444444,\"#bd3786\"],[0.5555555555555556,\"#d8576b\"],[0.6666666666666666,\"#ed7953\"],[0.7777777777777778,\"#fb9f3a\"],[0.8888888888888888,\"#fdca26\"],[1.0,\"#f0f921\"]]},\"colorway\":[\"#636efa\",\"#EF553B\",\"#00cc96\",\"#ab63fa\",\"#FFA15A\",\"#19d3f3\",\"#FF6692\",\"#B6E880\",\"#FF97FF\",\"#FECB52\"],\"font\":{\"color\":\"#2a3f5f\"},\"geo\":{\"bgcolor\":\"white\",\"lakecolor\":\"white\",\"landcolor\":\"#E5ECF6\",\"showlakes\":true,\"showland\":true,\"subunitcolor\":\"white\"},\"hoverlabel\":{\"align\":\"left\"},\"hovermode\":\"closest\",\"mapbox\":{\"style\":\"light\"},\"paper_bgcolor\":\"white\",\"plot_bgcolor\":\"#E5ECF6\",\"polar\":{\"angularaxis\":{\"gridcolor\":\"white\",\"linecolor\":\"white\",\"ticks\":\"\"},\"bgcolor\":\"#E5ECF6\",\"radialaxis\":{\"gridcolor\":\"white\",\"linecolor\":\"white\",\"ticks\":\"\"}},\"scene\":{\"xaxis\":{\"backgroundcolor\":\"#E5ECF6\",\"gridcolor\":\"white\",\"gridwidth\":2,\"linecolor\":\"white\",\"showbackground\":true,\"ticks\":\"\",\"zerolinecolor\":\"white\"},\"yaxis\":{\"backgroundcolor\":\"#E5ECF6\",\"gridcolor\":\"white\",\"gridwidth\":2,\"linecolor\":\"white\",\"showbackground\":true,\"ticks\":\"\",\"zerolinecolor\":\"white\"},\"zaxis\":{\"backgroundcolor\":\"#E5ECF6\",\"gridcolor\":\"white\",\"gridwidth\":2,\"linecolor\":\"white\",\"showbackground\":true,\"ticks\":\"\",\"zerolinecolor\":\"white\"}},\"shapedefaults\":{\"line\":{\"color\":\"#2a3f5f\"}},\"ternary\":{\"aaxis\":{\"gridcolor\":\"white\",\"linecolor\":\"white\",\"ticks\":\"\"},\"baxis\":{\"gridcolor\":\"white\",\"linecolor\":\"white\",\"ticks\":\"\"},\"bgcolor\":\"#E5ECF6\",\"caxis\":{\"gridcolor\":\"white\",\"linecolor\":\"white\",\"ticks\":\"\"}},\"title\":{\"x\":0.05},\"xaxis\":{\"automargin\":true,\"gridcolor\":\"white\",\"linecolor\":\"white\",\"ticks\":\"\",\"title\":{\"standoff\":15},\"zerolinecolor\":\"white\",\"zerolinewidth\":2},\"yaxis\":{\"automargin\":true,\"gridcolor\":\"white\",\"linecolor\":\"white\",\"ticks\":\"\",\"title\":{\"standoff\":15},\"zerolinecolor\":\"white\",\"zerolinewidth\":2}}},\"xaxis\":{\"anchor\":\"y\",\"domain\":[0.0,1.0],\"title\":{\"text\":\"x_axis\"}},\"yaxis\":{\"anchor\":\"x\",\"domain\":[0.0,1.0],\"title\":{\"text\":\"ones\"}},\"legend\":{\"title\":{\"text\":\"publication\"},\"tracegroupgap\":0,\"itemsizing\":\"constant\"},\"margin\":{\"t\":60},\"plot_bgcolor\":\"rgba(0, 0, 0, 0)\",\"paper_bgcolor\":\"rgba(0, 0, 0, 0)\"},                        {\"responsive\": true}                    ).then(function(){\n",
              "                            \n",
              "var gd = document.getElementById('35a3a7be-547c-4f02-a2a4-da55948efc18');\n",
              "var x = new MutationObserver(function (mutations, observer) {{\n",
              "        var display = window.getComputedStyle(gd).display;\n",
              "        if (!display || display === 'none') {{\n",
              "            console.log([gd, 'removed!']);\n",
              "            Plotly.purge(gd);\n",
              "            observer.disconnect();\n",
              "        }}\n",
              "}});\n",
              "\n",
              "// Listen for the removal of the full notebook cells\n",
              "var notebookContainer = gd.closest('#notebook-container');\n",
              "if (notebookContainer) {{\n",
              "    x.observe(notebookContainer, {childList: true});\n",
              "}}\n",
              "\n",
              "// Listen for the clearing of the current output cell\n",
              "var outputEl = gd.closest('.output');\n",
              "if (outputEl) {{\n",
              "    x.observe(outputEl, {childList: true});\n",
              "}}\n",
              "\n",
              "                        })                };                            </script>        </div>\n",
              "</body>\n",
              "</html>"
            ]
          },
          "metadata": {}
        }
      ]
    },
    {
      "cell_type": "code",
      "source": [
        ""
      ],
      "metadata": {
        "id": "8-WIWA-1tlM1"
      },
      "execution_count": 125,
      "outputs": []
    },
    {
      "cell_type": "code",
      "source": [
        "def column_analyzer_scores(dataframe_column):\n",
        "  start_time = time.time()  \n",
        "  polarity_com = []\n",
        "  subjectivity = []\n",
        "  for i in range(len(dataframe_column)):\n",
        "    polarity = TextBlob(dataframe_column[i]).sentiment.polarity\n",
        "    subjectivity_score = TextBlob(dataframe_column[i]).sentiment.subjectivity\n",
        "    # print(\"{:-<40} {}\".format(sentence, str(score)))\n",
        "    polarity_com.append(polarity)\n",
        "    subjectivity.append(subjectivity_score)\n",
        "\n",
        "  end_time = time.time()\n",
        "  runtime = end_time - start_time\n",
        "  return subjectivity, polarity_com, runtime"
      ],
      "metadata": {
        "id": "yPwol9MkhDgN"
      },
      "execution_count": 60,
      "outputs": []
    },
    {
      "cell_type": "code",
      "source": [
        "subjectivity_og, polarity_com_og, runtime_og = column_analyzer_scores(news.headline)\n",
        "subjectivity_gen, polarity_com_gen, runtime_gen = column_analyzer_scores(news.generated_headline)"
      ],
      "metadata": {
        "id": "0LwFfRwGtM_h"
      },
      "execution_count": 61,
      "outputs": []
    },
    {
      "cell_type": "code",
      "source": [
        "news['subjectivity_og'] = subjectivity_og\n",
        "news['subjectivity_gen'] = subjectivity_gen"
      ],
      "metadata": {
        "id": "KYGcKeAUtUnM"
      },
      "execution_count": 62,
      "outputs": []
    },
    {
      "cell_type": "code",
      "source": [
        "news['diff_sub'] = np.abs(news['subjectivity_og'] - news['subjectivity_gen'])\n",
        "news['sub_sub'] = news['subjectivity_gen'] - news['subjectivity_og']"
      ],
      "metadata": {
        "id": "i4GqQ1xbtW8n"
      },
      "execution_count": 66,
      "outputs": []
    },
    {
      "cell_type": "code",
      "source": [
        "visdata = news[['publication','sub_sub']].groupby(by='publication').sum()\n",
        "visdata['publication'] = visdata.index\n",
        "visdata = visdata.reset_index(drop=True)"
      ],
      "metadata": {
        "id": "ge8q2nyivLT0"
      },
      "execution_count": 67,
      "outputs": []
    },
    {
      "cell_type": "code",
      "source": [
        "ax = sns.ax = sns.barplot(x=\"publication\", y=\"sub_sub\", data=visdata)\n",
        "ax = ax.set_xticklabels(ax.get_xticklabels(),rotation = 75)"
      ],
      "metadata": {
        "colab": {
          "base_uri": "https://localhost:8080/",
          "height": 424
        },
        "id": "oJI876qMuR2T",
        "outputId": "4e45b383-1c64-4b2b-f2bc-368b617bec1a"
      },
      "execution_count": 69,
      "outputs": [
        {
          "output_type": "display_data",
          "data": {
            "text/plain": [
              "<Figure size 720x360 with 1 Axes>"
            ],
            "image/png": "[encoded data removed]"
          },
          "metadata": {
            "needs_background": "light"
          }
        }
      ]
    },
    {
      "cell_type": "code",
      "source": [
        "visdata[\"radius\"] =round(np.square(visdata['diff_sub'])/10000)\n",
        "# keywords = visdata\n",
        "visdata[\"radius\"] =round(np.square(visdata['diff_sub'])/10000)\n",
        "visdata['x_axis'] = np.arange(0,45,3)\n",
        "visdata['ones'] = 1\n",
        "\n",
        "fig = px.scatter(visdata, x='x_axis', y='ones',\n",
        "             size='radius', \n",
        "             color='publication',\n",
        "             text='publication', size_max=60)\n",
        "\n",
        "fig.update_layout({\n",
        "'plot_bgcolor': 'rgba(0, 0, 0, 0)',\n",
        "'paper_bgcolor': 'rgba(0, 0, 0, 0)',\n",
        "})\n",
        "\n",
        "fig.show()"
      ],
      "metadata": {
        "colab": {
          "base_uri": "https://localhost:8080/",
          "height": 542
        },
        "id": "D591m-Cl7AwM",
        "outputId": "2b9dc8a6-33b2-4af0-8b7e-412049190589"
      },
      "execution_count": null,
      "outputs": [
        {
          "output_type": "display_data",
          "data": {
            "text/html": [
              "<html>\n",
              "<head><meta charset=\"utf-8\" /></head>\n",
              "<body>\n",
              "    <div>            <script src=\"https://cdnjs.cloudflare.com/ajax/libs/mathjax/2.7.5/MathJax.js?config=TeX-AMS-MML_SVG\"></script><script type=\"text/javascript\">if (window.MathJax) {MathJax.Hub.Config({SVG: {font: \"STIX-Web\"}});}</script>                <script type=\"text/javascript\">window.PlotlyConfig = {MathJaxConfig: 'local'};</script>\n",
              "        <script src=\"https://cdn.plot.ly/plotly-2.8.3.min.js\"></script>                <div id=\"80e6255f-f10f-4620-94ea-f24be3035765\" class=\"plotly-graph-div\" style=\"height:525px; width:100%;\"></div>            <script type=\"text/javascript\">                                    window.PLOTLYENV=window.PLOTLYENV || {};                                    if (document.getElementById(\"80e6255f-f10f-4620-94ea-f24be3035765\")) {                    Plotly.newPlot(                        \"80e6255f-f10f-4620-94ea-f24be3035765\",                        [{\"hovertemplate\":\"publication=%{text}<br>x_axis=%{x}<br>ones=%{y}<br>radius=%{marker.size}<extra></extra>\",\"legendgroup\":\"Atlantic\",\"marker\":{\"color\":\"#636efa\",\"size\":[11.0],\"sizemode\":\"area\",\"sizeref\":0.0175,\"symbol\":\"circle\"},\"mode\":\"markers+text\",\"name\":\"Atlantic\",\"orientation\":\"v\",\"showlegend\":true,\"text\":[\"Atlantic\"],\"x\":[0],\"xaxis\":\"x\",\"y\":[1],\"yaxis\":\"y\",\"type\":\"scatter\"},{\"hovertemplate\":\"publication=%{text}<br>x_axis=%{x}<br>ones=%{y}<br>radius=%{marker.size}<extra></extra>\",\"legendgroup\":\"Breitbart\",\"marker\":{\"color\":\"#EF553B\",\"size\":[63.0],\"sizemode\":\"area\",\"sizeref\":0.0175,\"symbol\":\"circle\"},\"mode\":\"markers+text\",\"name\":\"Breitbart\",\"orientation\":\"v\",\"showlegend\":true,\"text\":[\"Breitbart\"],\"x\":[3],\"xaxis\":\"x\",\"y\":[1],\"yaxis\":\"y\",\"type\":\"scatter\"},{\"hovertemplate\":\"publication=%{text}<br>x_axis=%{x}<br>ones=%{y}<br>radius=%{marker.size}<extra></extra>\",\"legendgroup\":\"Business Insider\",\"marker\":{\"color\":\"#00cc96\",\"size\":[10.0],\"sizemode\":\"area\",\"sizeref\":0.0175,\"symbol\":\"circle\"},\"mode\":\"markers+text\",\"name\":\"Business Insider\",\"orientation\":\"v\",\"showlegend\":true,\"text\":[\"Business Insider\"],\"x\":[6],\"xaxis\":\"x\",\"y\":[1],\"yaxis\":\"y\",\"type\":\"scatter\"},{\"hovertemplate\":\"publication=%{text}<br>x_axis=%{x}<br>ones=%{y}<br>radius=%{marker.size}<extra></extra>\",\"legendgroup\":\"Buzzfeed News\",\"marker\":{\"color\":\"#ab63fa\",\"size\":[4.0],\"sizemode\":\"area\",\"sizeref\":0.0175,\"symbol\":\"circle\"},\"mode\":\"markers+text\",\"name\":\"Buzzfeed News\",\"orientation\":\"v\",\"showlegend\":true,\"text\":[\"Buzzfeed News\"],\"x\":[9],\"xaxis\":\"x\",\"y\":[1],\"yaxis\":\"y\",\"type\":\"scatter\"},{\"hovertemplate\":\"publication=%{text}<br>x_axis=%{x}<br>ones=%{y}<br>radius=%{marker.size}<extra></extra>\",\"legendgroup\":\"CNN\",\"marker\":{\"color\":\"#FFA15A\",\"size\":[21.0],\"sizemode\":\"area\",\"sizeref\":0.0175,\"symbol\":\"circle\"},\"mode\":\"markers+text\",\"name\":\"CNN\",\"orientation\":\"v\",\"showlegend\":true,\"text\":[\"CNN\"],\"x\":[12],\"xaxis\":\"x\",\"y\":[1],\"yaxis\":\"y\",\"type\":\"scatter\"},{\"hovertemplate\":\"publication=%{text}<br>x_axis=%{x}<br>ones=%{y}<br>radius=%{marker.size}<extra></extra>\",\"legendgroup\":\"Fox News\",\"marker\":{\"color\":\"#19d3f3\",\"size\":[3.0],\"sizemode\":\"area\",\"sizeref\":0.0175,\"symbol\":\"circle\"},\"mode\":\"markers+text\",\"name\":\"Fox News\",\"orientation\":\"v\",\"showlegend\":true,\"text\":[\"Fox News\"],\"x\":[15],\"xaxis\":\"x\",\"y\":[1],\"yaxis\":\"y\",\"type\":\"scatter\"},{\"hovertemplate\":\"publication=%{text}<br>x_axis=%{x}<br>ones=%{y}<br>radius=%{marker.size}<extra></extra>\",\"legendgroup\":\"Guardian\",\"marker\":{\"color\":\"#FF6692\",\"size\":[14.0],\"sizemode\":\"area\",\"sizeref\":0.0175,\"symbol\":\"circle\"},\"mode\":\"markers+text\",\"name\":\"Guardian\",\"orientation\":\"v\",\"showlegend\":true,\"text\":[\"Guardian\"],\"x\":[18],\"xaxis\":\"x\",\"y\":[1],\"yaxis\":\"y\",\"type\":\"scatter\"},{\"hovertemplate\":\"publication=%{text}<br>x_axis=%{x}<br>ones=%{y}<br>radius=%{marker.size}<extra></extra>\",\"legendgroup\":\"NPR\",\"marker\":{\"color\":\"#B6E880\",\"size\":[29.0],\"sizemode\":\"area\",\"sizeref\":0.0175,\"symbol\":\"circle\"},\"mode\":\"markers+text\",\"name\":\"NPR\",\"orientation\":\"v\",\"showlegend\":true,\"text\":[\"NPR\"],\"x\":[21],\"xaxis\":\"x\",\"y\":[1],\"yaxis\":\"y\",\"type\":\"scatter\"},{\"hovertemplate\":\"publication=%{text}<br>x_axis=%{x}<br>ones=%{y}<br>radius=%{marker.size}<extra></extra>\",\"legendgroup\":\"National Review\",\"marker\":{\"color\":\"#FF97FF\",\"size\":[10.0],\"sizemode\":\"area\",\"sizeref\":0.0175,\"symbol\":\"circle\"},\"mode\":\"markers+text\",\"name\":\"National Review\",\"orientation\":\"v\",\"showlegend\":true,\"text\":[\"National Review\"],\"x\":[24],\"xaxis\":\"x\",\"y\":[1],\"yaxis\":\"y\",\"type\":\"scatter\"},{\"hovertemplate\":\"publication=%{text}<br>x_axis=%{x}<br>ones=%{y}<br>radius=%{marker.size}<extra></extra>\",\"legendgroup\":\"New York Post\",\"marker\":{\"color\":\"#FECB52\",\"size\":[63.0],\"sizemode\":\"area\",\"sizeref\":0.0175,\"symbol\":\"circle\"},\"mode\":\"markers+text\",\"name\":\"New York Post\",\"orientation\":\"v\",\"showlegend\":true,\"text\":[\"New York Post\"],\"x\":[27],\"xaxis\":\"x\",\"y\":[1],\"yaxis\":\"y\",\"type\":\"scatter\"},{\"hovertemplate\":\"publication=%{text}<br>x_axis=%{x}<br>ones=%{y}<br>radius=%{marker.size}<extra></extra>\",\"legendgroup\":\"New York Times\",\"marker\":{\"color\":\"#636efa\",\"size\":[4.0],\"sizemode\":\"area\",\"sizeref\":0.0175,\"symbol\":\"circle\"},\"mode\":\"markers+text\",\"name\":\"New York Times\",\"orientation\":\"v\",\"showlegend\":true,\"text\":[\"New York Times\"],\"x\":[30],\"xaxis\":\"x\",\"y\":[1],\"yaxis\":\"y\",\"type\":\"scatter\"},{\"hovertemplate\":\"publication=%{text}<br>x_axis=%{x}<br>ones=%{y}<br>radius=%{marker.size}<extra></extra>\",\"legendgroup\":\"Reuters\",\"marker\":{\"color\":\"#EF553B\",\"size\":[19.0],\"sizemode\":\"area\",\"sizeref\":0.0175,\"symbol\":\"circle\"},\"mode\":\"markers+text\",\"name\":\"Reuters\",\"orientation\":\"v\",\"showlegend\":true,\"text\":[\"Reuters\"],\"x\":[33],\"xaxis\":\"x\",\"y\":[1],\"yaxis\":\"y\",\"type\":\"scatter\"},{\"hovertemplate\":\"publication=%{text}<br>x_axis=%{x}<br>ones=%{y}<br>radius=%{marker.size}<extra></extra>\",\"legendgroup\":\"Talking Points Memo\",\"marker\":{\"color\":\"#00cc96\",\"size\":[4.0],\"sizemode\":\"area\",\"sizeref\":0.0175,\"symbol\":\"circle\"},\"mode\":\"markers+text\",\"name\":\"Talking Points Memo\",\"orientation\":\"v\",\"showlegend\":true,\"text\":[\"Talking Points Memo\"],\"x\":[36],\"xaxis\":\"x\",\"y\":[1],\"yaxis\":\"y\",\"type\":\"scatter\"},{\"hovertemplate\":\"publication=%{text}<br>x_axis=%{x}<br>ones=%{y}<br>radius=%{marker.size}<extra></extra>\",\"legendgroup\":\"Vox\",\"marker\":{\"color\":\"#ab63fa\",\"size\":[6.0],\"sizemode\":\"area\",\"sizeref\":0.0175,\"symbol\":\"circle\"},\"mode\":\"markers+text\",\"name\":\"Vox\",\"orientation\":\"v\",\"showlegend\":true,\"text\":[\"Vox\"],\"x\":[39],\"xaxis\":\"x\",\"y\":[1],\"yaxis\":\"y\",\"type\":\"scatter\"},{\"hovertemplate\":\"publication=%{text}<br>x_axis=%{x}<br>ones=%{y}<br>radius=%{marker.size}<extra></extra>\",\"legendgroup\":\"Washington Post\",\"marker\":{\"color\":\"#FFA15A\",\"size\":[28.0],\"sizemode\":\"area\",\"sizeref\":0.0175,\"symbol\":\"circle\"},\"mode\":\"markers+text\",\"name\":\"Washington Post\",\"orientation\":\"v\",\"showlegend\":true,\"text\":[\"Washington Post\"],\"x\":[42],\"xaxis\":\"x\",\"y\":[1],\"yaxis\":\"y\",\"type\":\"scatter\"}],                        {\"template\":{\"data\":{\"bar\":[{\"error_x\":{\"color\":\"#2a3f5f\"},\"error_y\":{\"color\":\"#2a3f5f\"},\"marker\":{\"line\":{\"color\":\"#E5ECF6\",\"width\":0.5},\"pattern\":{\"fillmode\":\"overlay\",\"size\":10,\"solidity\":0.2}},\"type\":\"bar\"}],\"barpolar\":[{\"marker\":{\"line\":{\"color\":\"#E5ECF6\",\"width\":0.5},\"pattern\":{\"fillmode\":\"overlay\",\"size\":10,\"solidity\":0.2}},\"type\":\"barpolar\"}],\"carpet\":[{\"aaxis\":{\"endlinecolor\":\"#2a3f5f\",\"gridcolor\":\"white\",\"linecolor\":\"white\",\"minorgridcolor\":\"white\",\"startlinecolor\":\"#2a3f5f\"},\"baxis\":{\"endlinecolor\":\"#2a3f5f\",\"gridcolor\":\"white\",\"linecolor\":\"white\",\"minorgridcolor\":\"white\",\"startlinecolor\":\"#2a3f5f\"},\"type\":\"carpet\"}],\"choropleth\":[{\"colorbar\":{\"outlinewidth\":0,\"ticks\":\"\"},\"type\":\"choropleth\"}],\"contour\":[{\"colorbar\":{\"outlinewidth\":0,\"ticks\":\"\"},\"colorscale\":[[0.0,\"#0d0887\"],[0.1111111111111111,\"#46039f\"],[0.2222222222222222,\"#7201a8\"],[0.3333333333333333,\"#9c179e\"],[0.4444444444444444,\"#bd3786\"],[0.5555555555555556,\"#d8576b\"],[0.6666666666666666,\"#ed7953\"],[0.7777777777777778,\"#fb9f3a\"],[0.8888888888888888,\"#fdca26\"],[1.0,\"#f0f921\"]],\"type\":\"contour\"}],\"contourcarpet\":[{\"colorbar\":{\"outlinewidth\":0,\"ticks\":\"\"},\"type\":\"contourcarpet\"}],\"heatmap\":[{\"colorbar\":{\"outlinewidth\":0,\"ticks\":\"\"},\"colorscale\":[[0.0,\"#0d0887\"],[0.1111111111111111,\"#46039f\"],[0.2222222222222222,\"#7201a8\"],[0.3333333333333333,\"#9c179e\"],[0.4444444444444444,\"#bd3786\"],[0.5555555555555556,\"#d8576b\"],[0.6666666666666666,\"#ed7953\"],[0.7777777777777778,\"#fb9f3a\"],[0.8888888888888888,\"#fdca26\"],[1.0,\"#f0f921\"]],\"type\":\"heatmap\"}],\"heatmapgl\":[{\"colorbar\":{\"outlinewidth\":0,\"ticks\":\"\"},\"colorscale\":[[0.0,\"#0d0887\"],[0.1111111111111111,\"#46039f\"],[0.2222222222222222,\"#7201a8\"],[0.3333333333333333,\"#9c179e\"],[0.4444444444444444,\"#bd3786\"],[0.5555555555555556,\"#d8576b\"],[0.6666666666666666,\"#ed7953\"],[0.7777777777777778,\"#fb9f3a\"],[0.8888888888888888,\"#fdca26\"],[1.0,\"#f0f921\"]],\"type\":\"heatmapgl\"}],\"histogram\":[{\"marker\":{\"pattern\":{\"fillmode\":\"overlay\",\"size\":10,\"solidity\":0.2}},\"type\":\"histogram\"}],\"histogram2d\":[{\"colorbar\":{\"outlinewidth\":0,\"ticks\":\"\"},\"colorscale\":[[0.0,\"#0d0887\"],[0.1111111111111111,\"#46039f\"],[0.2222222222222222,\"#7201a8\"],[0.3333333333333333,\"#9c179e\"],[0.4444444444444444,\"#bd3786\"],[0.5555555555555556,\"#d8576b\"],[0.6666666666666666,\"#ed7953\"],[0.7777777777777778,\"#fb9f3a\"],[0.8888888888888888,\"#fdca26\"],[1.0,\"#f0f921\"]],\"type\":\"histogram2d\"}],\"histogram2dcontour\":[{\"colorbar\":{\"outlinewidth\":0,\"ticks\":\"\"},\"colorscale\":[[0.0,\"#0d0887\"],[0.1111111111111111,\"#46039f\"],[0.2222222222222222,\"#7201a8\"],[0.3333333333333333,\"#9c179e\"],[0.4444444444444444,\"#bd3786\"],[0.5555555555555556,\"#d8576b\"],[0.6666666666666666,\"#ed7953\"],[0.7777777777777778,\"#fb9f3a\"],[0.8888888888888888,\"#fdca26\"],[1.0,\"#f0f921\"]],\"type\":\"histogram2dcontour\"}],\"mesh3d\":[{\"colorbar\":{\"outlinewidth\":0,\"ticks\":\"\"},\"type\":\"mesh3d\"}],\"parcoords\":[{\"line\":{\"colorbar\":{\"outlinewidth\":0,\"ticks\":\"\"}},\"type\":\"parcoords\"}],\"pie\":[{\"automargin\":true,\"type\":\"pie\"}],\"scatter\":[{\"marker\":{\"colorbar\":{\"outlinewidth\":0,\"ticks\":\"\"}},\"type\":\"scatter\"}],\"scatter3d\":[{\"line\":{\"colorbar\":{\"outlinewidth\":0,\"ticks\":\"\"}},\"marker\":{\"colorbar\":{\"outlinewidth\":0,\"ticks\":\"\"}},\"type\":\"scatter3d\"}],\"scattercarpet\":[{\"marker\":{\"colorbar\":{\"outlinewidth\":0,\"ticks\":\"\"}},\"type\":\"scattercarpet\"}],\"scattergeo\":[{\"marker\":{\"colorbar\":{\"outlinewidth\":0,\"ticks\":\"\"}},\"type\":\"scattergeo\"}],\"scattergl\":[{\"marker\":{\"colorbar\":{\"outlinewidth\":0,\"ticks\":\"\"}},\"type\":\"scattergl\"}],\"scattermapbox\":[{\"marker\":{\"colorbar\":{\"outlinewidth\":0,\"ticks\":\"\"}},\"type\":\"scattermapbox\"}],\"scatterpolar\":[{\"marker\":{\"colorbar\":{\"outlinewidth\":0,\"ticks\":\"\"}},\"type\":\"scatterpolar\"}],\"scatterpolargl\":[{\"marker\":{\"colorbar\":{\"outlinewidth\":0,\"ticks\":\"\"}},\"type\":\"scatterpolargl\"}],\"scatterternary\":[{\"marker\":{\"colorbar\":{\"outlinewidth\":0,\"ticks\":\"\"}},\"type\":\"scatterternary\"}],\"surface\":[{\"colorbar\":{\"outlinewidth\":0,\"ticks\":\"\"},\"colorscale\":[[0.0,\"#0d0887\"],[0.1111111111111111,\"#46039f\"],[0.2222222222222222,\"#7201a8\"],[0.3333333333333333,\"#9c179e\"],[0.4444444444444444,\"#bd3786\"],[0.5555555555555556,\"#d8576b\"],[0.6666666666666666,\"#ed7953\"],[0.7777777777777778,\"#fb9f3a\"],[0.8888888888888888,\"#fdca26\"],[1.0,\"#f0f921\"]],\"type\":\"surface\"}],\"table\":[{\"cells\":{\"fill\":{\"color\":\"#EBF0F8\"},\"line\":{\"color\":\"white\"}},\"header\":{\"fill\":{\"color\":\"#C8D4E3\"},\"line\":{\"color\":\"white\"}},\"type\":\"table\"}]},\"layout\":{\"annotationdefaults\":{\"arrowcolor\":\"#2a3f5f\",\"arrowhead\":0,\"arrowwidth\":1},\"autotypenumbers\":\"strict\",\"coloraxis\":{\"colorbar\":{\"outlinewidth\":0,\"ticks\":\"\"}},\"colorscale\":{\"diverging\":[[0,\"#8e0152\"],[0.1,\"#c51b7d\"],[0.2,\"#de77ae\"],[0.3,\"#f1b6da\"],[0.4,\"#fde0ef\"],[0.5,\"#f7f7f7\"],[0.6,\"#e6f5d0\"],[0.7,\"#b8e186\"],[0.8,\"#7fbc41\"],[0.9,\"#4d9221\"],[1,\"#276419\"]],\"sequential\":[[0.0,\"#0d0887\"],[0.1111111111111111,\"#46039f\"],[0.2222222222222222,\"#7201a8\"],[0.3333333333333333,\"#9c179e\"],[0.4444444444444444,\"#bd3786\"],[0.5555555555555556,\"#d8576b\"],[0.6666666666666666,\"#ed7953\"],[0.7777777777777778,\"#fb9f3a\"],[0.8888888888888888,\"#fdca26\"],[1.0,\"#f0f921\"]],\"sequentialminus\":[[0.0,\"#0d0887\"],[0.1111111111111111,\"#46039f\"],[0.2222222222222222,\"#7201a8\"],[0.3333333333333333,\"#9c179e\"],[0.4444444444444444,\"#bd3786\"],[0.5555555555555556,\"#d8576b\"],[0.6666666666666666,\"#ed7953\"],[0.7777777777777778,\"#fb9f3a\"],[0.8888888888888888,\"#fdca26\"],[1.0,\"#f0f921\"]]},\"colorway\":[\"#636efa\",\"#EF553B\",\"#00cc96\",\"#ab63fa\",\"#FFA15A\",\"#19d3f3\",\"#FF6692\",\"#B6E880\",\"#FF97FF\",\"#FECB52\"],\"font\":{\"color\":\"#2a3f5f\"},\"geo\":{\"bgcolor\":\"white\",\"lakecolor\":\"white\",\"landcolor\":\"#E5ECF6\",\"showlakes\":true,\"showland\":true,\"subunitcolor\":\"white\"},\"hoverlabel\":{\"align\":\"left\"},\"hovermode\":\"closest\",\"mapbox\":{\"style\":\"light\"},\"paper_bgcolor\":\"white\",\"plot_bgcolor\":\"#E5ECF6\",\"polar\":{\"angularaxis\":{\"gridcolor\":\"white\",\"linecolor\":\"white\",\"ticks\":\"\"},\"bgcolor\":\"#E5ECF6\",\"radialaxis\":{\"gridcolor\":\"white\",\"linecolor\":\"white\",\"ticks\":\"\"}},\"scene\":{\"xaxis\":{\"backgroundcolor\":\"#E5ECF6\",\"gridcolor\":\"white\",\"gridwidth\":2,\"linecolor\":\"white\",\"showbackground\":true,\"ticks\":\"\",\"zerolinecolor\":\"white\"},\"yaxis\":{\"backgroundcolor\":\"#E5ECF6\",\"gridcolor\":\"white\",\"gridwidth\":2,\"linecolor\":\"white\",\"showbackground\":true,\"ticks\":\"\",\"zerolinecolor\":\"white\"},\"zaxis\":{\"backgroundcolor\":\"#E5ECF6\",\"gridcolor\":\"white\",\"gridwidth\":2,\"linecolor\":\"white\",\"showbackground\":true,\"ticks\":\"\",\"zerolinecolor\":\"white\"}},\"shapedefaults\":{\"line\":{\"color\":\"#2a3f5f\"}},\"ternary\":{\"aaxis\":{\"gridcolor\":\"white\",\"linecolor\":\"white\",\"ticks\":\"\"},\"baxis\":{\"gridcolor\":\"white\",\"linecolor\":\"white\",\"ticks\":\"\"},\"bgcolor\":\"#E5ECF6\",\"caxis\":{\"gridcolor\":\"white\",\"linecolor\":\"white\",\"ticks\":\"\"}},\"title\":{\"x\":0.05},\"xaxis\":{\"automargin\":true,\"gridcolor\":\"white\",\"linecolor\":\"white\",\"ticks\":\"\",\"title\":{\"standoff\":15},\"zerolinecolor\":\"white\",\"zerolinewidth\":2},\"yaxis\":{\"automargin\":true,\"gridcolor\":\"white\",\"linecolor\":\"white\",\"ticks\":\"\",\"title\":{\"standoff\":15},\"zerolinecolor\":\"white\",\"zerolinewidth\":2}}},\"xaxis\":{\"anchor\":\"y\",\"domain\":[0.0,1.0],\"title\":{\"text\":\"x_axis\"}},\"yaxis\":{\"anchor\":\"x\",\"domain\":[0.0,1.0],\"title\":{\"text\":\"ones\"}},\"legend\":{\"title\":{\"text\":\"publication\"},\"tracegroupgap\":0,\"itemsizing\":\"constant\"},\"margin\":{\"t\":60},\"plot_bgcolor\":\"rgba(0, 0, 0, 0)\",\"paper_bgcolor\":\"rgba(0, 0, 0, 0)\"},                        {\"responsive\": true}                    ).then(function(){\n",
              "                            \n",
              "var gd = document.getElementById('80e6255f-f10f-4620-94ea-f24be3035765');\n",
              "var x = new MutationObserver(function (mutations, observer) {{\n",
              "        var display = window.getComputedStyle(gd).display;\n",
              "        if (!display || display === 'none') {{\n",
              "            console.log([gd, 'removed!']);\n",
              "            Plotly.purge(gd);\n",
              "            observer.disconnect();\n",
              "        }}\n",
              "}});\n",
              "\n",
              "// Listen for the removal of the full notebook cells\n",
              "var notebookContainer = gd.closest('#notebook-container');\n",
              "if (notebookContainer) {{\n",
              "    x.observe(notebookContainer, {childList: true});\n",
              "}}\n",
              "\n",
              "// Listen for the clearing of the current output cell\n",
              "var outputEl = gd.closest('.output');\n",
              "if (outputEl) {{\n",
              "    x.observe(outputEl, {childList: true});\n",
              "}}\n",
              "\n",
              "                        })                };                            </script>        </div>\n",
              "</body>\n",
              "</html>"
            ]
          },
          "metadata": {}
        }
      ]
    },
    {
      "cell_type": "code",
      "source": [
        "sns.barplot(x=\"publication\", y=\"diff\", data=visdata)"
      ],
      "metadata": {
        "colab": {
          "base_uri": "https://localhost:8080/",
          "height": 353
        },
        "id": "0V0FeAqiuul0",
        "outputId": "840500b4-ea01-4fa4-dc50-65290f4c49e5"
      },
      "execution_count": 127,
      "outputs": [
        {
          "output_type": "execute_result",
          "data": {
            "text/plain": [
              "<matplotlib.axes._subplots.AxesSubplot at 0x7f3a41ebb2d0>"
            ]
          },
          "metadata": {},
          "execution_count": 127
        },
        {
          "output_type": "display_data",
          "data": {
            "text/plain": [
              "<Figure size 720x360 with 1 Axes>"
            ],
            "image/png": "[encoded data removed]"
          },
          "metadata": {
            "needs_background": "light"
          }
        }
      ]
    },
    {
      "cell_type": "code",
      "source": [
        "news[['publication','diff']].groupby(by='publication').sum()"
      ],
      "metadata": {
        "colab": {
          "base_uri": "https://localhost:8080/",
          "height": 551
        },
        "id": "1JNAVBvkvGbS",
        "outputId": "7b17c322-24d4-4428-ab2f-ee9495545582"
      },
      "execution_count": 128,
      "outputs": [
        {
          "output_type": "execute_result",
          "data": {
            "text/plain": [
              "                         diff\n",
              "publication                  \n",
              "Atlantic             346.5316\n",
              "Breitbart            961.9279\n",
              "Business Insider     352.4498\n",
              "Buzzfeed News        233.3915\n",
              "CNN                  534.1009\n",
              "Fox News             228.3034\n",
              "Guardian             469.2299\n",
              "NPR                  605.9945\n",
              "National Review      386.8876\n",
              "New York Post        889.9769\n",
              "New York Times       394.6572\n",
              "Reuters              534.2540\n",
              "Talking Points Memo  235.5304\n",
              "Vox                  282.9838\n",
              "Washington Post      643.1015"
            ],
            "text/html": [
              "\n",
              "  <div id=\"df-0e11cd0f-b59f-485b-8b91-1af732e5d369\">\n",
              "    <div class=\"colab-df-container\">\n",
              "      <div>\n",
              "<style scoped>\n",
              "    .dataframe tbody tr th:only-of-type {\n",
              "        vertical-align: middle;\n",
              "    }\n",
              "\n",
              "    .dataframe tbody tr th {\n",
              "        vertical-align: top;\n",
              "    }\n",
              "\n",
              "    .dataframe thead th {\n",
              "        text-align: right;\n",
              "    }\n",
              "</style>\n",
              "<table border=\"1\" class=\"dataframe\">\n",
              "  <thead>\n",
              "    <tr style=\"text-align: right;\">\n",
              "      <th></th>\n",
              "      <th>diff</th>\n",
              "    </tr>\n",
              "    <tr>\n",
              "      <th>publication</th>\n",
              "      <th></th>\n",
              "    </tr>\n",
              "  </thead>\n",
              "  <tbody>\n",
              "    <tr>\n",
              "      <th>Atlantic</th>\n",
              "      <td>346.5316</td>\n",
              "    </tr>\n",
              "    <tr>\n",
              "      <th>Breitbart</th>\n",
              "      <td>961.9279</td>\n",
              "    </tr>\n",
              "    <tr>\n",
              "      <th>Business Insider</th>\n",
              "      <td>352.4498</td>\n",
              "    </tr>\n",
              "    <tr>\n",
              "      <th>Buzzfeed News</th>\n",
              "      <td>233.3915</td>\n",
              "    </tr>\n",
              "    <tr>\n",
              "      <th>CNN</th>\n",
              "      <td>534.1009</td>\n",
              "    </tr>\n",
              "    <tr>\n",
              "      <th>Fox News</th>\n",
              "      <td>228.3034</td>\n",
              "    </tr>\n",
              "    <tr>\n",
              "      <th>Guardian</th>\n",
              "      <td>469.2299</td>\n",
              "    </tr>\n",
              "    <tr>\n",
              "      <th>NPR</th>\n",
              "      <td>605.9945</td>\n",
              "    </tr>\n",
              "    <tr>\n",
              "      <th>National Review</th>\n",
              "      <td>386.8876</td>\n",
              "    </tr>\n",
              "    <tr>\n",
              "      <th>New York Post</th>\n",
              "      <td>889.9769</td>\n",
              "    </tr>\n",
              "    <tr>\n",
              "      <th>New York Times</th>\n",
              "      <td>394.6572</td>\n",
              "    </tr>\n",
              "    <tr>\n",
              "      <th>Reuters</th>\n",
              "      <td>534.2540</td>\n",
              "    </tr>\n",
              "    <tr>\n",
              "      <th>Talking Points Memo</th>\n",
              "      <td>235.5304</td>\n",
              "    </tr>\n",
              "    <tr>\n",
              "      <th>Vox</th>\n",
              "      <td>282.9838</td>\n",
              "    </tr>\n",
              "    <tr>\n",
              "      <th>Washington Post</th>\n",
              "      <td>643.1015</td>\n",
              "    </tr>\n",
              "  </tbody>\n",
              "</table>\n",
              "</div>\n",
              "      <button class=\"colab-df-convert\" onclick=\"convertToInteractive('df-0e11cd0f-b59f-485b-8b91-1af732e5d369')\"\n",
              "              title=\"Convert this dataframe to an interactive table.\"\n",
              "              style=\"display:none;\">\n",
              "        \n",
              "  <svg xmlns=\"http://www.w3.org/2000/svg\" height=\"24px\"viewBox=\"0 0 24 24\"\n",
              "       width=\"24px\">\n",
              "    <path d=\"M0 0h24v24H0V0z\" fill=\"none\"/>\n",
              "    <path d=\"M18.56 5.44l.94 2.06.94-2.06 2.06-.94-2.06-.94-.94-2.06-.94 2.06-2.06.94zm-11 1L8.5 8.5l.94-2.06 2.06-.94-2.06-.94L8.5 2.5l-.94 2.06-2.06.94zm10 10l.94 2.06.94-2.06 2.06-.94-2.06-.94-.94-2.06-.94 2.06-2.06.94z\"/><path d=\"M17.41 7.96l-1.37-1.37c-.4-.4-.92-.59-1.43-.59-.52 0-1.04.2-1.43.59L10.3 9.45l-7.72 7.72c-.78.78-.78 2.05 0 2.83L4 21.41c.39.39.9.59 1.41.59.51 0 1.02-.2 1.41-.59l7.78-7.78 2.81-2.81c.8-.78.8-2.07 0-2.86zM5.41 20L4 18.59l7.72-7.72 1.47 1.35L5.41 20z\"/>\n",
              "  </svg>\n",
              "      </button>\n",
              "      \n",
              "  <style>\n",
              "    .colab-df-container {\n",
              "      display:flex;\n",
              "      flex-wrap:wrap;\n",
              "      gap: 12px;\n",
              "    }\n",
              "\n",
              "    .colab-df-convert {\n",
              "      background-color: #E8F0FE;\n",
              "      border: none;\n",
              "      border-radius: 50%;\n",
              "      cursor: pointer;\n",
              "      display: none;\n",
              "      fill: #1967D2;\n",
              "      height: 32px;\n",
              "      padding: 0 0 0 0;\n",
              "      width: 32px;\n",
              "    }\n",
              "\n",
              "    .colab-df-convert:hover {\n",
              "      background-color: #E2EBFA;\n",
              "      box-shadow: 0px 1px 2px rgba(60, 64, 67, 0.3), 0px 1px 3px 1px rgba(60, 64, 67, 0.15);\n",
              "      fill: #174EA6;\n",
              "    }\n",
              "\n",
              "    [theme=dark] .colab-df-convert {\n",
              "      background-color: #3B4455;\n",
              "      fill: #D2E3FC;\n",
              "    }\n",
              "\n",
              "    [theme=dark] .colab-df-convert:hover {\n",
              "      background-color: #434B5C;\n",
              "      box-shadow: 0px 1px 3px 1px rgba(0, 0, 0, 0.15);\n",
              "      filter: drop-shadow(0px 1px 2px rgba(0, 0, 0, 0.3));\n",
              "      fill: #FFFFFF;\n",
              "    }\n",
              "  </style>\n",
              "\n",
              "      <script>\n",
              "        const buttonEl =\n",
              "          document.querySelector('#df-0e11cd0f-b59f-485b-8b91-1af732e5d369 button.colab-df-convert');\n",
              "        buttonEl.style.display =\n",
              "          google.colab.kernel.accessAllowed ? 'block' : 'none';\n",
              "\n",
              "        async function convertToInteractive(key) {\n",
              "          const element = document.querySelector('#df-0e11cd0f-b59f-485b-8b91-1af732e5d369');\n",
              "          const dataTable =\n",
              "            await google.colab.kernel.invokeFunction('convertToInteractive',\n",
              "                                                     [key], {});\n",
              "          if (!dataTable) return;\n",
              "\n",
              "          const docLinkHtml = 'Like what you see? Visit the ' +\n",
              "            '<a target=\"_blank\" href=https://colab.research.google.com/notebooks/data_table.ipynb>data table notebook</a>'\n",
              "            + ' to learn more about interactive tables.';\n",
              "          element.innerHTML = '';\n",
              "          dataTable['output_type'] = 'display_data';\n",
              "          await google.colab.output.renderOutput(dataTable, element);\n",
              "          const docLink = document.createElement('div');\n",
              "          docLink.innerHTML = docLinkHtml;\n",
              "          element.appendChild(docLink);\n",
              "        }\n",
              "      </script>\n",
              "    </div>\n",
              "  </div>\n",
              "  "
            ]
          },
          "metadata": {},
          "execution_count": 128
        }
      ]
    }
  ]
}